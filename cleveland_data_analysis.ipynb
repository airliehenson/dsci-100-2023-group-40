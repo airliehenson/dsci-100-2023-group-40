{
 "cells": [
  {
   "cell_type": "markdown",
   "id": "6ac6456e",
   "metadata": {
    "tags": []
   },
   "source": [
    "# Heart Disease (Cleveland)"
   ]
  },
  {
   "cell_type": "markdown",
   "id": "607b0571-5d6f-4c4a-8fb8-88cb693359b9",
   "metadata": {},
   "source": [
    "### Table of Contents"
   ]
  },
  {
   "cell_type": "markdown",
   "id": "79dd6871-d37d-4008-b0ae-fc0405548696",
   "metadata": {},
   "source": [
    "- [Introduction](#Introduction)\n",
    "- [Methods](#Methods)\n",
    "    - [Preliminatory Data Exploration](#Preliminatory-Data-Exploration)\n",
    "    - [Building the Predictive Model](#Building-the-Model)\n",
    "- [Results](#Visualization-of-Results)\n",
    "- [Discussion](#Discussion)\n",
    "- [References](#References)"
   ]
  },
  {
   "cell_type": "markdown",
   "id": "ba5594e5",
   "metadata": {},
   "source": [
    "# Introduction"
   ]
  },
  {
   "cell_type": "markdown",
   "id": "c860c293",
   "metadata": {},
   "source": [
    "Heart disease is a term used to describe a number of heart conditions, including a heart attack, an arrhythmia or heart failure. There are many symptoms for heart disease, specifically many symptoms that go unnoticed, and therefore at times it can be difficult to diagnose. What this project aims to do is to predict the presence of heart disease for a patient based on two numerical variables. We chose to use the Heart Disease dataset provided by the course, specifically the Cleveland segment. The variables that we found were the most accurate predictors were [ST depression](#ST-Depression) and [maximum heart rate](#Maximum-Heart-Rate). Answering this question with these variables could signify a new way to predict heart disease using data, and possibly saving lives. "
   ]
  },
  {
   "cell_type": "markdown",
   "id": "b6174dce-7724-46ee-9cd6-1dd35bfaf1d1",
   "metadata": {},
   "source": [
    "# Methods"
   ]
  },
  {
   "cell_type": "markdown",
   "id": "b3c7e568-2234-4e6e-b3e1-9d5254664ca2",
   "metadata": {},
   "source": [
    "## Preliminatory Data Exploration"
   ]
  },
  {
   "cell_type": "markdown",
   "id": "51d93b40-6a53-4edb-9736-a4986a667f42",
   "metadata": {},
   "source": [
    "### 1. Reading and Wrangling Data "
   ]
  },
  {
   "cell_type": "markdown",
   "id": "4e2d2c87-0ec2-421a-8329-9adba928ad2a",
   "metadata": {},
   "source": [
    "#### Load Libraries "
   ]
  },
  {
   "cell_type": "code",
   "execution_count": 1,
   "id": "ba58f44d",
   "metadata": {},
   "outputs": [
    {
     "name": "stderr",
     "output_type": "stream",
     "text": [
      "── \u001b[1mAttaching packages\u001b[22m ─────────────────────────────────────── tidyverse 1.3.1 ──\n",
      "\n",
      "\u001b[32m✔\u001b[39m \u001b[34mggplot2\u001b[39m 3.3.6     \u001b[32m✔\u001b[39m \u001b[34mpurrr  \u001b[39m 0.3.4\n",
      "\u001b[32m✔\u001b[39m \u001b[34mtibble \u001b[39m 3.1.7     \u001b[32m✔\u001b[39m \u001b[34mdplyr  \u001b[39m 1.0.9\n",
      "\u001b[32m✔\u001b[39m \u001b[34mtidyr  \u001b[39m 1.2.0     \u001b[32m✔\u001b[39m \u001b[34mstringr\u001b[39m 1.4.0\n",
      "\u001b[32m✔\u001b[39m \u001b[34mreadr  \u001b[39m 2.1.2     \u001b[32m✔\u001b[39m \u001b[34mforcats\u001b[39m 0.5.1\n",
      "\n",
      "── \u001b[1mConflicts\u001b[22m ────────────────────────────────────────── tidyverse_conflicts() ──\n",
      "\u001b[31m✖\u001b[39m \u001b[34mdplyr\u001b[39m::\u001b[32mfilter()\u001b[39m masks \u001b[34mstats\u001b[39m::filter()\n",
      "\u001b[31m✖\u001b[39m \u001b[34mdplyr\u001b[39m::\u001b[32mlag()\u001b[39m    masks \u001b[34mstats\u001b[39m::lag()\n",
      "\n",
      "── \u001b[1mAttaching packages\u001b[22m ────────────────────────────────────── tidymodels 1.0.0 ──\n",
      "\n",
      "\u001b[32m✔\u001b[39m \u001b[34mbroom       \u001b[39m 1.0.0     \u001b[32m✔\u001b[39m \u001b[34mrsample     \u001b[39m 1.0.0\n",
      "\u001b[32m✔\u001b[39m \u001b[34mdials       \u001b[39m 1.0.0     \u001b[32m✔\u001b[39m \u001b[34mtune        \u001b[39m 1.0.0\n",
      "\u001b[32m✔\u001b[39m \u001b[34minfer       \u001b[39m 1.0.2     \u001b[32m✔\u001b[39m \u001b[34mworkflows   \u001b[39m 1.0.0\n",
      "\u001b[32m✔\u001b[39m \u001b[34mmodeldata   \u001b[39m 1.0.0     \u001b[32m✔\u001b[39m \u001b[34mworkflowsets\u001b[39m 1.0.0\n",
      "\u001b[32m✔\u001b[39m \u001b[34mparsnip     \u001b[39m 1.0.0     \u001b[32m✔\u001b[39m \u001b[34myardstick   \u001b[39m 1.0.0\n",
      "\u001b[32m✔\u001b[39m \u001b[34mrecipes     \u001b[39m 1.0.1     \n",
      "\n",
      "── \u001b[1mConflicts\u001b[22m ───────────────────────────────────────── tidymodels_conflicts() ──\n",
      "\u001b[31m✖\u001b[39m \u001b[34mscales\u001b[39m::\u001b[32mdiscard()\u001b[39m masks \u001b[34mpurrr\u001b[39m::discard()\n",
      "\u001b[31m✖\u001b[39m \u001b[34mdplyr\u001b[39m::\u001b[32mfilter()\u001b[39m   masks \u001b[34mstats\u001b[39m::filter()\n",
      "\u001b[31m✖\u001b[39m \u001b[34mrecipes\u001b[39m::\u001b[32mfixed()\u001b[39m  masks \u001b[34mstringr\u001b[39m::fixed()\n",
      "\u001b[31m✖\u001b[39m \u001b[34mdplyr\u001b[39m::\u001b[32mlag()\u001b[39m      masks \u001b[34mstats\u001b[39m::lag()\n",
      "\u001b[31m✖\u001b[39m \u001b[34myardstick\u001b[39m::\u001b[32mspec()\u001b[39m masks \u001b[34mreadr\u001b[39m::spec()\n",
      "\u001b[31m✖\u001b[39m \u001b[34mrecipes\u001b[39m::\u001b[32mstep()\u001b[39m   masks \u001b[34mstats\u001b[39m::step()\n",
      "\u001b[34m•\u001b[39m Search for functions across packages at \u001b[32mhttps://www.tidymodels.org/find/\u001b[39m\n",
      "\n"
     ]
    }
   ],
   "source": [
    "#Load required library\n",
    "library(tidyverse)\n",
    "library(repr)\n",
    "library(tidymodels)\n",
    "library(RColorBrewer)\n",
    "options(repr.matrix.max.rows = 6)"
   ]
  },
  {
   "cell_type": "markdown",
   "id": "a8e016a8",
   "metadata": {},
   "source": [
    "#### Reading in Heart Disease Data"
   ]
  },
  {
   "cell_type": "markdown",
   "id": "6a5fb5d8-08a6-4357-affa-b697951424e1",
   "metadata": {},
   "source": [
    "- Here, it is best to use URL since dataset can be read from the internet to enable reading without local file \n",
    "- Column names were added for clarity "
   ]
  },
  {
   "cell_type": "code",
   "execution_count": 2,
   "id": "db3de0de-1c64-4182-8bb5-449a00eb7ad1",
   "metadata": {},
   "outputs": [
    {
     "name": "stderr",
     "output_type": "stream",
     "text": [
      "\u001b[1mRows: \u001b[22m\u001b[34m303\u001b[39m \u001b[1mColumns: \u001b[22m\u001b[34m14\u001b[39m\n",
      "\u001b[36m──\u001b[39m \u001b[1mColumn specification\u001b[22m \u001b[36m────────────────────────────────────────────────────────\u001b[39m\n",
      "\u001b[1mDelimiter:\u001b[22m \",\"\n",
      "\u001b[31mchr\u001b[39m  (2): X12, X13\n",
      "\u001b[32mdbl\u001b[39m (12): X1, X2, X3, X4, X5, X6, X7, X8, X9, X10, X11, X14\n",
      "\n",
      "\u001b[36mℹ\u001b[39m Use `spec()` to retrieve the full column specification for this data.\n",
      "\u001b[36mℹ\u001b[39m Specify the column types or set `show_col_types = FALSE` to quiet this message.\n"
     ]
    },
    {
     "name": "stdout",
     "output_type": "stream",
     "text": [
      "[1] \"Table 1.1 - Cleveland Data With Column Names\"\n"
     ]
    },
    {
     "data": {
      "text/html": [
       "<table class=\"dataframe\">\n",
       "<caption>A spec_tbl_df: 303 × 14</caption>\n",
       "<thead>\n",
       "\t<tr><th scope=col>age</th><th scope=col>sex</th><th scope=col>cp</th><th scope=col>trestbps</th><th scope=col>chol</th><th scope=col>fbs</th><th scope=col>restecg</th><th scope=col>thalach</th><th scope=col>exang</th><th scope=col>oldpeak</th><th scope=col>slope</th><th scope=col>ca</th><th scope=col>thal</th><th scope=col>num</th></tr>\n",
       "\t<tr><th scope=col>&lt;dbl&gt;</th><th scope=col>&lt;dbl&gt;</th><th scope=col>&lt;dbl&gt;</th><th scope=col>&lt;dbl&gt;</th><th scope=col>&lt;dbl&gt;</th><th scope=col>&lt;dbl&gt;</th><th scope=col>&lt;dbl&gt;</th><th scope=col>&lt;dbl&gt;</th><th scope=col>&lt;dbl&gt;</th><th scope=col>&lt;dbl&gt;</th><th scope=col>&lt;dbl&gt;</th><th scope=col>&lt;chr&gt;</th><th scope=col>&lt;chr&gt;</th><th scope=col>&lt;dbl&gt;</th></tr>\n",
       "</thead>\n",
       "<tbody>\n",
       "\t<tr><td>63</td><td>1</td><td>1</td><td>145</td><td>233</td><td>1</td><td>2</td><td>150</td><td>0</td><td>2.3</td><td>3</td><td>0.0</td><td>6.0</td><td>0</td></tr>\n",
       "\t<tr><td>67</td><td>1</td><td>4</td><td>160</td><td>286</td><td>0</td><td>2</td><td>108</td><td>1</td><td>1.5</td><td>2</td><td>3.0</td><td>3.0</td><td>2</td></tr>\n",
       "\t<tr><td>67</td><td>1</td><td>4</td><td>120</td><td>229</td><td>0</td><td>2</td><td>129</td><td>1</td><td>2.6</td><td>2</td><td>2.0</td><td>7.0</td><td>1</td></tr>\n",
       "\t<tr><td>⋮</td><td>⋮</td><td>⋮</td><td>⋮</td><td>⋮</td><td>⋮</td><td>⋮</td><td>⋮</td><td>⋮</td><td>⋮</td><td>⋮</td><td>⋮</td><td>⋮</td><td>⋮</td></tr>\n",
       "\t<tr><td>57</td><td>1</td><td>4</td><td>130</td><td>131</td><td>0</td><td>0</td><td>115</td><td>1</td><td>1.2</td><td>2</td><td>1.0</td><td>7.0</td><td>3</td></tr>\n",
       "\t<tr><td>57</td><td>0</td><td>2</td><td>130</td><td>236</td><td>0</td><td>2</td><td>174</td><td>0</td><td>0.0</td><td>2</td><td>1.0</td><td>3.0</td><td>1</td></tr>\n",
       "\t<tr><td>38</td><td>1</td><td>3</td><td>138</td><td>175</td><td>0</td><td>0</td><td>173</td><td>0</td><td>0.0</td><td>1</td><td>?  </td><td>3.0</td><td>0</td></tr>\n",
       "</tbody>\n",
       "</table>\n"
      ],
      "text/latex": [
       "A spec\\_tbl\\_df: 303 × 14\n",
       "\\begin{tabular}{llllllllllllll}\n",
       " age & sex & cp & trestbps & chol & fbs & restecg & thalach & exang & oldpeak & slope & ca & thal & num\\\\\n",
       " <dbl> & <dbl> & <dbl> & <dbl> & <dbl> & <dbl> & <dbl> & <dbl> & <dbl> & <dbl> & <dbl> & <chr> & <chr> & <dbl>\\\\\n",
       "\\hline\n",
       "\t 63 & 1 & 1 & 145 & 233 & 1 & 2 & 150 & 0 & 2.3 & 3 & 0.0 & 6.0 & 0\\\\\n",
       "\t 67 & 1 & 4 & 160 & 286 & 0 & 2 & 108 & 1 & 1.5 & 2 & 3.0 & 3.0 & 2\\\\\n",
       "\t 67 & 1 & 4 & 120 & 229 & 0 & 2 & 129 & 1 & 2.6 & 2 & 2.0 & 7.0 & 1\\\\\n",
       "\t ⋮ & ⋮ & ⋮ & ⋮ & ⋮ & ⋮ & ⋮ & ⋮ & ⋮ & ⋮ & ⋮ & ⋮ & ⋮ & ⋮\\\\\n",
       "\t 57 & 1 & 4 & 130 & 131 & 0 & 0 & 115 & 1 & 1.2 & 2 & 1.0 & 7.0 & 3\\\\\n",
       "\t 57 & 0 & 2 & 130 & 236 & 0 & 2 & 174 & 0 & 0.0 & 2 & 1.0 & 3.0 & 1\\\\\n",
       "\t 38 & 1 & 3 & 138 & 175 & 0 & 0 & 173 & 0 & 0.0 & 1 & ?   & 3.0 & 0\\\\\n",
       "\\end{tabular}\n"
      ],
      "text/markdown": [
       "\n",
       "A spec_tbl_df: 303 × 14\n",
       "\n",
       "| age &lt;dbl&gt; | sex &lt;dbl&gt; | cp &lt;dbl&gt; | trestbps &lt;dbl&gt; | chol &lt;dbl&gt; | fbs &lt;dbl&gt; | restecg &lt;dbl&gt; | thalach &lt;dbl&gt; | exang &lt;dbl&gt; | oldpeak &lt;dbl&gt; | slope &lt;dbl&gt; | ca &lt;chr&gt; | thal &lt;chr&gt; | num &lt;dbl&gt; |\n",
       "|---|---|---|---|---|---|---|---|---|---|---|---|---|---|\n",
       "| 63 | 1 | 1 | 145 | 233 | 1 | 2 | 150 | 0 | 2.3 | 3 | 0.0 | 6.0 | 0 |\n",
       "| 67 | 1 | 4 | 160 | 286 | 0 | 2 | 108 | 1 | 1.5 | 2 | 3.0 | 3.0 | 2 |\n",
       "| 67 | 1 | 4 | 120 | 229 | 0 | 2 | 129 | 1 | 2.6 | 2 | 2.0 | 7.0 | 1 |\n",
       "| ⋮ | ⋮ | ⋮ | ⋮ | ⋮ | ⋮ | ⋮ | ⋮ | ⋮ | ⋮ | ⋮ | ⋮ | ⋮ | ⋮ |\n",
       "| 57 | 1 | 4 | 130 | 131 | 0 | 0 | 115 | 1 | 1.2 | 2 | 1.0 | 7.0 | 3 |\n",
       "| 57 | 0 | 2 | 130 | 236 | 0 | 2 | 174 | 0 | 0.0 | 2 | 1.0 | 3.0 | 1 |\n",
       "| 38 | 1 | 3 | 138 | 175 | 0 | 0 | 173 | 0 | 0.0 | 1 | ?   | 3.0 | 0 |\n",
       "\n"
      ],
      "text/plain": [
       "    age sex cp trestbps chol fbs restecg thalach exang oldpeak slope ca  thal\n",
       "1   63  1   1  145      233  1   2       150     0     2.3     3     0.0 6.0 \n",
       "2   67  1   4  160      286  0   2       108     1     1.5     2     3.0 3.0 \n",
       "3   67  1   4  120      229  0   2       129     1     2.6     2     2.0 7.0 \n",
       "⋮   ⋮   ⋮   ⋮  ⋮        ⋮    ⋮   ⋮       ⋮       ⋮     ⋮       ⋮     ⋮   ⋮   \n",
       "301 57  1   4  130      131  0   0       115     1     1.2     2     1.0 7.0 \n",
       "302 57  0   2  130      236  0   2       174     0     0.0     2     1.0 3.0 \n",
       "303 38  1   3  138      175  0   0       173     0     0.0     1     ?   3.0 \n",
       "    num\n",
       "1   0  \n",
       "2   2  \n",
       "3   1  \n",
       "⋮   ⋮  \n",
       "301 3  \n",
       "302 1  \n",
       "303 0  "
      ]
     },
     "metadata": {},
     "output_type": "display_data"
    }
   ],
   "source": [
    "cleveland_data <- read_csv(\"https://archive.ics.uci.edu/ml/machine-learning-databases/heart-disease/processed.cleveland.data\",\n",
    "                           col_names = FALSE) |>\n",
    "    rename(age      = X1,      # Age in years\n",
    "           sex      = X2,      # Sex (1 = male, 0 = female)\n",
    "           cp       = X3,      # Chest pain type \n",
    "                               # - 1 : typical angina\n",
    "                               # - 2 : atypical angina\n",
    "                               # - 3 : non-anginal pain\n",
    "                               # - 4 : asymptomatic\n",
    "           trestbps = X4,      # Resting blood pressure (mmHg)\n",
    "           chol     = X5,      # Serum cholestoral (mg/dL)\n",
    "           fbs      = X6,      # Fasting blood sugar > 120 mg/dL (1 = true, 0 = false)\n",
    "           restecg  = X7,      # Resting electrocardiographic results \n",
    "                               # - 0 : normal,\n",
    "                               # - 1 : having ST-T wave abnormality (T wave inversions and/or ST \n",
    "                               #       elevation or depression of > 0.05 mV)\n",
    "                               # - 2 : showing probable or definite left ventricular hypertrophy by Estes' criteria\n",
    "           thalach  = X8,      # Maximum heart rate achieved\n",
    "           exang    = X9,      # Exercise induced angina (0 = no, 1 = yes)\n",
    "           oldpeak  = X10,     # ST depression induced by exercise relative to rest\n",
    "           slope    = X11,     # The slope of the peak exercise ST segment\n",
    "                               # - 1 : upsloping\n",
    "                               # - 2 : flat\n",
    "                               # - 3 : downsloping\n",
    "           ca       = X12,     # Number of major vessels (0-3) colored by flourosopy\n",
    "           thal     = X13,     # 3 = normal; 6 = fixed defect; 7 = reversable defect\n",
    "           num      = X14)     # diagnosis of heart disease (angiographic disease status)\n",
    "print(\"Table 1.1 - Cleveland Data With Column Names\")\n",
    "cleveland_data"
   ]
  },
  {
   "cell_type": "markdown",
   "id": "68be8e33",
   "metadata": {},
   "source": [
    "#### Data wrangling"
   ]
  },
  {
   "cell_type": "markdown",
   "id": "47aa3d52-2798-4bf3-9685-b7b0cc206063",
   "metadata": {},
   "source": [
    "- categorical varaibles are mutated to factor as required by classificaiton.\n",
    "- since we are predicting presence, a column of presence was added by mutating any number of heart disease class (num) above 0 represents presence"
   ]
  },
  {
   "cell_type": "code",
   "execution_count": 3,
   "id": "dcace84a",
   "metadata": {},
   "outputs": [
    {
     "name": "stderr",
     "output_type": "stream",
     "text": [
      "Warning message in mask$eval_all_mutate(quo):\n",
      "“NAs introduced by coercion”\n"
     ]
    },
    {
     "name": "stdout",
     "output_type": "stream",
     "text": [
      "[1] \"Table 1.2- Heart Disease Variables (Cleveland Dataset)\"\n"
     ]
    },
    {
     "data": {
      "text/html": [
       "<table class=\"dataframe\">\n",
       "<caption>A tibble: 303 × 15</caption>\n",
       "<thead>\n",
       "\t<tr><th scope=col>age</th><th scope=col>sex</th><th scope=col>cp</th><th scope=col>trestbps</th><th scope=col>chol</th><th scope=col>fbs</th><th scope=col>restecg</th><th scope=col>thalach</th><th scope=col>exang</th><th scope=col>oldpeak</th><th scope=col>slope</th><th scope=col>ca</th><th scope=col>thal</th><th scope=col>num</th><th scope=col>presence</th></tr>\n",
       "\t<tr><th scope=col>&lt;int&gt;</th><th scope=col>&lt;fct&gt;</th><th scope=col>&lt;fct&gt;</th><th scope=col>&lt;int&gt;</th><th scope=col>&lt;int&gt;</th><th scope=col>&lt;fct&gt;</th><th scope=col>&lt;fct&gt;</th><th scope=col>&lt;dbl&gt;</th><th scope=col>&lt;fct&gt;</th><th scope=col>&lt;dbl&gt;</th><th scope=col>&lt;fct&gt;</th><th scope=col>&lt;int&gt;</th><th scope=col>&lt;fct&gt;</th><th scope=col>&lt;fct&gt;</th><th scope=col>&lt;fct&gt;</th></tr>\n",
       "</thead>\n",
       "<tbody>\n",
       "\t<tr><td>63</td><td>1</td><td>1</td><td>145</td><td>233</td><td>1</td><td>2</td><td>150</td><td>0</td><td>2.3</td><td>3</td><td>0</td><td>6.0</td><td>0</td><td>FALSE</td></tr>\n",
       "\t<tr><td>67</td><td>1</td><td>4</td><td>160</td><td>286</td><td>0</td><td>2</td><td>108</td><td>1</td><td>1.5</td><td>2</td><td>3</td><td>3.0</td><td>2</td><td>TRUE </td></tr>\n",
       "\t<tr><td>67</td><td>1</td><td>4</td><td>120</td><td>229</td><td>0</td><td>2</td><td>129</td><td>1</td><td>2.6</td><td>2</td><td>2</td><td>7.0</td><td>1</td><td>TRUE </td></tr>\n",
       "\t<tr><td>⋮</td><td>⋮</td><td>⋮</td><td>⋮</td><td>⋮</td><td>⋮</td><td>⋮</td><td>⋮</td><td>⋮</td><td>⋮</td><td>⋮</td><td>⋮</td><td>⋮</td><td>⋮</td><td>⋮</td></tr>\n",
       "\t<tr><td>57</td><td>1</td><td>4</td><td>130</td><td>131</td><td>0</td><td>0</td><td>115</td><td>1</td><td>1.2</td><td>2</td><td> 1</td><td>7.0</td><td>3</td><td>TRUE </td></tr>\n",
       "\t<tr><td>57</td><td>0</td><td>2</td><td>130</td><td>236</td><td>0</td><td>2</td><td>174</td><td>0</td><td>0.0</td><td>2</td><td> 1</td><td>3.0</td><td>1</td><td>TRUE </td></tr>\n",
       "\t<tr><td>38</td><td>1</td><td>3</td><td>138</td><td>175</td><td>0</td><td>0</td><td>173</td><td>0</td><td>0.0</td><td>1</td><td>NA</td><td>3.0</td><td>0</td><td>FALSE</td></tr>\n",
       "</tbody>\n",
       "</table>\n"
      ],
      "text/latex": [
       "A tibble: 303 × 15\n",
       "\\begin{tabular}{lllllllllllllll}\n",
       " age & sex & cp & trestbps & chol & fbs & restecg & thalach & exang & oldpeak & slope & ca & thal & num & presence\\\\\n",
       " <int> & <fct> & <fct> & <int> & <int> & <fct> & <fct> & <dbl> & <fct> & <dbl> & <fct> & <int> & <fct> & <fct> & <fct>\\\\\n",
       "\\hline\n",
       "\t 63 & 1 & 1 & 145 & 233 & 1 & 2 & 150 & 0 & 2.3 & 3 & 0 & 6.0 & 0 & FALSE\\\\\n",
       "\t 67 & 1 & 4 & 160 & 286 & 0 & 2 & 108 & 1 & 1.5 & 2 & 3 & 3.0 & 2 & TRUE \\\\\n",
       "\t 67 & 1 & 4 & 120 & 229 & 0 & 2 & 129 & 1 & 2.6 & 2 & 2 & 7.0 & 1 & TRUE \\\\\n",
       "\t ⋮ & ⋮ & ⋮ & ⋮ & ⋮ & ⋮ & ⋮ & ⋮ & ⋮ & ⋮ & ⋮ & ⋮ & ⋮ & ⋮ & ⋮\\\\\n",
       "\t 57 & 1 & 4 & 130 & 131 & 0 & 0 & 115 & 1 & 1.2 & 2 &  1 & 7.0 & 3 & TRUE \\\\\n",
       "\t 57 & 0 & 2 & 130 & 236 & 0 & 2 & 174 & 0 & 0.0 & 2 &  1 & 3.0 & 1 & TRUE \\\\\n",
       "\t 38 & 1 & 3 & 138 & 175 & 0 & 0 & 173 & 0 & 0.0 & 1 & NA & 3.0 & 0 & FALSE\\\\\n",
       "\\end{tabular}\n"
      ],
      "text/markdown": [
       "\n",
       "A tibble: 303 × 15\n",
       "\n",
       "| age &lt;int&gt; | sex &lt;fct&gt; | cp &lt;fct&gt; | trestbps &lt;int&gt; | chol &lt;int&gt; | fbs &lt;fct&gt; | restecg &lt;fct&gt; | thalach &lt;dbl&gt; | exang &lt;fct&gt; | oldpeak &lt;dbl&gt; | slope &lt;fct&gt; | ca &lt;int&gt; | thal &lt;fct&gt; | num &lt;fct&gt; | presence &lt;fct&gt; |\n",
       "|---|---|---|---|---|---|---|---|---|---|---|---|---|---|---|\n",
       "| 63 | 1 | 1 | 145 | 233 | 1 | 2 | 150 | 0 | 2.3 | 3 | 0 | 6.0 | 0 | FALSE |\n",
       "| 67 | 1 | 4 | 160 | 286 | 0 | 2 | 108 | 1 | 1.5 | 2 | 3 | 3.0 | 2 | TRUE  |\n",
       "| 67 | 1 | 4 | 120 | 229 | 0 | 2 | 129 | 1 | 2.6 | 2 | 2 | 7.0 | 1 | TRUE  |\n",
       "| ⋮ | ⋮ | ⋮ | ⋮ | ⋮ | ⋮ | ⋮ | ⋮ | ⋮ | ⋮ | ⋮ | ⋮ | ⋮ | ⋮ | ⋮ |\n",
       "| 57 | 1 | 4 | 130 | 131 | 0 | 0 | 115 | 1 | 1.2 | 2 |  1 | 7.0 | 3 | TRUE  |\n",
       "| 57 | 0 | 2 | 130 | 236 | 0 | 2 | 174 | 0 | 0.0 | 2 |  1 | 3.0 | 1 | TRUE  |\n",
       "| 38 | 1 | 3 | 138 | 175 | 0 | 0 | 173 | 0 | 0.0 | 1 | NA | 3.0 | 0 | FALSE |\n",
       "\n"
      ],
      "text/plain": [
       "    age sex cp trestbps chol fbs restecg thalach exang oldpeak slope ca thal\n",
       "1   63  1   1  145      233  1   2       150     0     2.3     3     0  6.0 \n",
       "2   67  1   4  160      286  0   2       108     1     1.5     2     3  3.0 \n",
       "3   67  1   4  120      229  0   2       129     1     2.6     2     2  7.0 \n",
       "⋮   ⋮   ⋮   ⋮  ⋮        ⋮    ⋮   ⋮       ⋮       ⋮     ⋮       ⋮     ⋮  ⋮   \n",
       "301 57  1   4  130      131  0   0       115     1     1.2     2      1 7.0 \n",
       "302 57  0   2  130      236  0   2       174     0     0.0     2      1 3.0 \n",
       "303 38  1   3  138      175  0   0       173     0     0.0     1     NA 3.0 \n",
       "    num presence\n",
       "1   0   FALSE   \n",
       "2   2   TRUE    \n",
       "3   1   TRUE    \n",
       "⋮   ⋮   ⋮       \n",
       "301 3   TRUE    \n",
       "302 1   TRUE    \n",
       "303 0   FALSE   "
      ]
     },
     "metadata": {},
     "output_type": "display_data"
    }
   ],
   "source": [
    "#Convert columns to sensible data types\n",
    "cleveland_data <- cleveland_data |>\n",
    "    mutate(age      = as.integer(age),\n",
    "           sex      = as.factor(sex),\n",
    "           cp       = as.factor(cp),\n",
    "           trestbps = as.integer(trestbps),\n",
    "           chol     = as.integer(chol),\n",
    "           fbs      = as.factor(fbs),\n",
    "           restecg  = as.factor(restecg),\n",
    "           thalach  = as.double(thalach),\n",
    "           exang    = as.factor(exang),\n",
    "           oldpeak  = as.double(oldpeak),\n",
    "           slope    = as.factor(slope),\n",
    "           ca       = as.integer(ca),\n",
    "           thal     = as.factor(thal),\n",
    "           num      = as.factor(num)) \n",
    "\n",
    "# Creating a new column which is whether or not a person has presence of heart disease\n",
    "cleveland_data <- cleveland_data |>\n",
    "    mutate(presence = (num != 0)) |>    \n",
    "    mutate(presence = as.factor(presence))\n",
    "\n",
    "print(\"Table 1.2- Heart Disease Variables (Cleveland Dataset)\")\n",
    "cleveland_data\n"
   ]
  },
  {
   "cell_type": "markdown",
   "id": "128b3e29-f02b-401e-a173-a0e60ed2869b",
   "metadata": {},
   "source": [
    "### 2. Splitting Data \n",
    "- proportion of 75% of data assigned to the training dataset and 25% to the testing dataset\n",
    "- seed was used to ensure consistenly reproducible results despite randomness of initial_split()"
   ]
  },
  {
   "cell_type": "code",
   "execution_count": 4,
   "id": "da4d0912",
   "metadata": {},
   "outputs": [],
   "source": [
    "#Setting random seed\n",
    "set.seed(8205)\n",
    "# Splitting the data into training and testing sets\n",
    "cleveland_split <- initial_split(cleveland_data, prop = 0.75, strata = num)\n",
    "cleveland_training <- training(cleveland_split) \n",
    "cleveland_testing <- testing(cleveland_split)"
   ]
  },
  {
   "cell_type": "markdown",
   "id": "5ecfafa4",
   "metadata": {},
   "source": [
    "### 3. Summarize  Dataset"
   ]
  },
  {
   "cell_type": "code",
   "execution_count": 5,
   "id": "1c3c3f00",
   "metadata": {},
   "outputs": [
    {
     "name": "stdout",
     "output_type": "stream",
     "text": [
      "[1] \"Table 3.1 - Summary of Presence (or not) of Heart Disease and how many patients\"\n"
     ]
    },
    {
     "data": {
      "text/html": [
       "<table class=\"dataframe\">\n",
       "<caption>A tibble: 2 × 2</caption>\n",
       "<thead>\n",
       "\t<tr><th scope=col>presence</th><th scope=col>count</th></tr>\n",
       "\t<tr><th scope=col>&lt;fct&gt;</th><th scope=col>&lt;int&gt;</th></tr>\n",
       "</thead>\n",
       "<tbody>\n",
       "\t<tr><td>FALSE</td><td>123</td></tr>\n",
       "\t<tr><td>TRUE </td><td>103</td></tr>\n",
       "</tbody>\n",
       "</table>\n"
      ],
      "text/latex": [
       "A tibble: 2 × 2\n",
       "\\begin{tabular}{ll}\n",
       " presence & count\\\\\n",
       " <fct> & <int>\\\\\n",
       "\\hline\n",
       "\t FALSE & 123\\\\\n",
       "\t TRUE  & 103\\\\\n",
       "\\end{tabular}\n"
      ],
      "text/markdown": [
       "\n",
       "A tibble: 2 × 2\n",
       "\n",
       "| presence &lt;fct&gt; | count &lt;int&gt; |\n",
       "|---|---|\n",
       "| FALSE | 123 |\n",
       "| TRUE  | 103 |\n",
       "\n"
      ],
      "text/plain": [
       "  presence count\n",
       "1 FALSE    123  \n",
       "2 TRUE     103  "
      ]
     },
     "metadata": {},
     "output_type": "display_data"
    }
   ],
   "source": [
    "target_summary <- cleveland_training |>\n",
    "    group_by(presence) |>\n",
    "    summarize(count = n())\n",
    "\n",
    "print(\"Table 3.1 - Summary of Presence (or not) of Heart Disease and how many patients\")\n",
    "target_summary"
   ]
  },
  {
   "cell_type": "code",
   "execution_count": 6,
   "id": "7fe930e6",
   "metadata": {},
   "outputs": [
    {
     "name": "stdout",
     "output_type": "stream",
     "text": [
      "[1] \"Figure 3.2 - Summary of Presence (or not) of Heart Disease and how many patients\"\n"
     ]
    },
    {
     "data": {
      "image/png": "[encoded data removed]",
      "text/plain": [
       "plot without title"
      ]
     },
     "metadata": {
      "image/png": {
       "height": 420,
       "width": 420
      }
     },
     "output_type": "display_data"
    }
   ],
   "source": [
    "target_summary_plot <- target_summary |>\n",
    "    ggplot(aes(x = presence, y = count, fill = presence)) +\n",
    "    geom_bar(stat = \"identity\") +\n",
    "    labs(x = \"Presence of Heart Disease\", y = \"Count\", fill = \"Presence of Heart Disease\") +\n",
    "    theme(text = element_text(size = 15))\n",
    "\n",
    "print(\"Figure 3.2 - Summary of Presence (or not) of Heart Disease and how many patients\")\n",
    "target_summary_plot"
   ]
  },
  {
   "cell_type": "markdown",
   "id": "32deee90",
   "metadata": {},
   "source": [
    "From the dataset, the majority of patients do not have any presence of heart disease."
   ]
  },
  {
   "cell_type": "markdown",
   "id": "8b7dc0d2",
   "metadata": {},
   "source": [
    "#### Demographics"
   ]
  },
  {
   "cell_type": "code",
   "execution_count": 7,
   "id": "12517928",
   "metadata": {},
   "outputs": [
    {
     "name": "stdout",
     "output_type": "stream",
     "text": [
      "[1] \"Table 3.3 -  Presence of Heart Disease count for male (1) and female (0) patients, as well as average age of occurence\"\n"
     ]
    },
    {
     "data": {
      "text/html": [
       "<table class=\"dataframe\">\n",
       "<caption>A tibble: 2 × 3</caption>\n",
       "<thead>\n",
       "\t<tr><th scope=col>sex</th><th scope=col>count</th><th scope=col>average_age</th></tr>\n",
       "\t<tr><th scope=col>&lt;fct&gt;</th><th scope=col>&lt;int&gt;</th><th scope=col>&lt;dbl&gt;</th></tr>\n",
       "</thead>\n",
       "<tbody>\n",
       "\t<tr><td>0</td><td> 73</td><td>56.06849</td></tr>\n",
       "\t<tr><td>1</td><td>153</td><td>53.66667</td></tr>\n",
       "</tbody>\n",
       "</table>\n"
      ],
      "text/latex": [
       "A tibble: 2 × 3\n",
       "\\begin{tabular}{lll}\n",
       " sex & count & average\\_age\\\\\n",
       " <fct> & <int> & <dbl>\\\\\n",
       "\\hline\n",
       "\t 0 &  73 & 56.06849\\\\\n",
       "\t 1 & 153 & 53.66667\\\\\n",
       "\\end{tabular}\n"
      ],
      "text/markdown": [
       "\n",
       "A tibble: 2 × 3\n",
       "\n",
       "| sex &lt;fct&gt; | count &lt;int&gt; | average_age &lt;dbl&gt; |\n",
       "|---|---|---|\n",
       "| 0 |  73 | 56.06849 |\n",
       "| 1 | 153 | 53.66667 |\n",
       "\n"
      ],
      "text/plain": [
       "  sex count average_age\n",
       "1 0    73   56.06849   \n",
       "2 1   153   53.66667   "
      ]
     },
     "metadata": {},
     "output_type": "display_data"
    }
   ],
   "source": [
    "demographic_summary <- cleveland_training |>\n",
    "    group_by(sex) |>\n",
    "    summarize(count = n(), average_age = mean(age))\n",
    "\n",
    "print(\"Table 3.3 -  Presence of Heart Disease count for male (1) and female (0) patients, as well as average age of occurence\")\n",
    "demographic_summary"
   ]
  },
  {
   "cell_type": "code",
   "execution_count": 8,
   "id": "2c13e099",
   "metadata": {},
   "outputs": [
    {
     "name": "stdout",
     "output_type": "stream",
     "text": [
      "[1] \"Figure 3.4 Count of presence of Heart Disease in Male vs. Female patients\"\n"
     ]
    },
    {
     "data": {
      "image/png": "[encoded data removed]",
      "text/plain": [
       "plot without title"
      ]
     },
     "metadata": {
      "image/png": {
       "height": 420,
       "width": 420
      }
     },
     "output_type": "display_data"
    },
    {
     "name": "stdout",
     "output_type": "stream",
     "text": [
      "[1] \"Figure 3.5 Count of presence of Heart Disease by age in Male and Femal patients\"\n"
     ]
    },
    {
     "data": {
      "image/png": "[encoded data removed]",
      "text/plain": [
       "plot without title"
      ]
     },
     "metadata": {
      "image/png": {
       "height": 420,
       "width": 420
      }
     },
     "output_type": "display_data"
    }
   ],
   "source": [
    "demographic_sex_summary_plot <- demographic_summary |>\n",
    "    ggplot(aes(x =  sex, y = count, fill = sex)) +\n",
    "    geom_bar(stat = \"identity\") +\n",
    "    labs(x = \"Sex\", y = \"Count\", fill = \"Sex\") +\n",
    "    scale_fill_discrete(labels = c(\"Female\", \"Male\")) +\n",
    "    theme(text = element_text(size = 15))\n",
    "\n",
    "demographic_age_summary_plot <- cleveland_training |>\n",
    "    ggplot(aes(x =  age, fill = sex)) +\n",
    "    geom_histogram(binwidth = 5) +\n",
    "    labs(x = \"Age\", y =  \"Count\", fill = \"Sex\") +\n",
    "    scale_fill_discrete(labels = c(\"Female\", \"Male\")) +\n",
    "    facet_grid(rows = vars(sex)) +\n",
    "    theme(text = element_text(size = 15))\n",
    "\n",
    "demographic_sex_summary_plot\n",
    "print(\"Figure 3.4 Count of presence of Heart Disease in Male vs. Female patients\")\n",
    "demographic_age_summary_plot\n",
    "print(\"Figure 3.5 Count of presence of Heart Disease by age in Male and Femal patients\")"
   ]
  },
  {
   "cell_type": "markdown",
   "id": "cd3d25e0",
   "metadata": {},
   "source": [
    "The number of male double that of female participants. The average age for this dataset is around 54 years old. In addition, the average age of the male is slightly younger than female participants."
   ]
  },
  {
   "cell_type": "markdown",
   "id": "c4b0a0cb",
   "metadata": {},
   "source": [
    "### 4. Summary of Predicting Variables"
   ]
  },
  {
   "cell_type": "markdown",
   "id": "849a07a4",
   "metadata": {},
   "source": [
    "#### Maximum Heart Rate"
   ]
  },
  {
   "cell_type": "code",
   "execution_count": 9,
   "id": "cf2b1b79",
   "metadata": {},
   "outputs": [
    {
     "name": "stdout",
     "output_type": "stream",
     "text": [
      "[1] \" Table 4.1 - Average Max Heart Rate within presence\"\n"
     ]
    },
    {
     "data": {
      "text/html": [
       "<table class=\"dataframe\">\n",
       "<caption>A tibble: 2 × 2</caption>\n",
       "<thead>\n",
       "\t<tr><th scope=col>presence</th><th scope=col>average_thalach</th></tr>\n",
       "\t<tr><th scope=col>&lt;fct&gt;</th><th scope=col>&lt;dbl&gt;</th></tr>\n",
       "</thead>\n",
       "<tbody>\n",
       "\t<tr><td>FALSE</td><td>158.4309</td></tr>\n",
       "\t<tr><td>TRUE </td><td>138.8058</td></tr>\n",
       "</tbody>\n",
       "</table>\n"
      ],
      "text/latex": [
       "A tibble: 2 × 2\n",
       "\\begin{tabular}{ll}\n",
       " presence & average\\_thalach\\\\\n",
       " <fct> & <dbl>\\\\\n",
       "\\hline\n",
       "\t FALSE & 158.4309\\\\\n",
       "\t TRUE  & 138.8058\\\\\n",
       "\\end{tabular}\n"
      ],
      "text/markdown": [
       "\n",
       "A tibble: 2 × 2\n",
       "\n",
       "| presence &lt;fct&gt; | average_thalach &lt;dbl&gt; |\n",
       "|---|---|\n",
       "| FALSE | 158.4309 |\n",
       "| TRUE  | 138.8058 |\n",
       "\n"
      ],
      "text/plain": [
       "  presence average_thalach\n",
       "1 FALSE    158.4309       \n",
       "2 TRUE     138.8058       "
      ]
     },
     "metadata": {},
     "output_type": "display_data"
    },
    {
     "name": "stdout",
     "output_type": "stream",
     "text": [
      "[1] \" Table 4.2 - Average Max Heart Rate overall\"\n"
     ]
    },
    {
     "data": {
      "text/html": [
       "<table class=\"dataframe\">\n",
       "<caption>A tibble: 1 × 1</caption>\n",
       "<thead>\n",
       "\t<tr><th scope=col>average_thalach</th></tr>\n",
       "\t<tr><th scope=col>&lt;dbl&gt;</th></tr>\n",
       "</thead>\n",
       "<tbody>\n",
       "\t<tr><td>149.4867</td></tr>\n",
       "</tbody>\n",
       "</table>\n"
      ],
      "text/latex": [
       "A tibble: 1 × 1\n",
       "\\begin{tabular}{l}\n",
       " average\\_thalach\\\\\n",
       " <dbl>\\\\\n",
       "\\hline\n",
       "\t 149.4867\\\\\n",
       "\\end{tabular}\n"
      ],
      "text/markdown": [
       "\n",
       "A tibble: 1 × 1\n",
       "\n",
       "| average_thalach &lt;dbl&gt; |\n",
       "|---|\n",
       "| 149.4867 |\n",
       "\n"
      ],
      "text/plain": [
       "  average_thalach\n",
       "1 149.4867       "
      ]
     },
     "metadata": {},
     "output_type": "display_data"
    }
   ],
   "source": [
    "average_thalach <- cleveland_training |>\n",
    "    summarize(average_thalach = mean(thalach))\n",
    "\n",
    "average_thalach_by_type <- cleveland_training |>\n",
    "    group_by(presence) |>\n",
    "    summarize(average_thalach = mean(thalach))\n",
    "print(\" Table 4.1 - Average Max Heart Rate within presence\")  \n",
    "average_thalach_by_type\n",
    "print(\" Table 4.2 - Average Max Heart Rate overall\")  \n",
    "average_thalach"
   ]
  },
  {
   "cell_type": "markdown",
   "id": "d9a030eb",
   "metadata": {},
   "source": [
    "The average maximum heart rate achieved for this dataset is 149.5 *bpm*. Healthy people, on average, have much lower maximum heart rate compared to the sample population and the opposite is true for people with heart disease."
   ]
  },
  {
   "cell_type": "code",
   "execution_count": 15,
   "id": "45eeb21e",
   "metadata": {},
   "outputs": [
    {
     "data": {
      "image/png": "[encoded data removed]",
      "text/plain": [
       "plot without title"
      ]
     },
     "metadata": {
      "image/png": {
       "height": 420,
       "width": 420
      }
     },
     "output_type": "display_data"
    }
   ],
   "source": [
    "thalach_summary_plot <- cleveland_training |>\n",
    "    ggplot(aes(x = presence, y = thalach)) +\n",
    "    geom_boxplot() +\n",
    "    geom_point(position = \"jitter\", alpha = 0.2) +\n",
    "    labs(x = \"Presence of Heart Disease\", y = \"Maximum Heart Rate Achieved (bpm)\")+ \n",
    "ggtitle(\"Fig 4.3 - Max Heart Rate Distribution\")\n",
    "\n",
    "thalach_summary_plot"
   ]
  },
  {
   "cell_type": "markdown",
   "id": "35d9e18c",
   "metadata": {},
   "source": [
    "People who have presence of heart disease tend to have lower maximum heart rate achieved compared to people who don't. However, this time, the difference is a lot more significant, indicating a strong correlation. This is a good candidate predictor variable."
   ]
  },
  {
   "cell_type": "markdown",
   "id": "ccc7d1f4",
   "metadata": {
    "tags": []
   },
   "source": [
    "#### ST Depression"
   ]
  },
  {
   "cell_type": "code",
   "execution_count": 11,
   "id": "324ae990",
   "metadata": {},
   "outputs": [
    {
     "name": "stdout",
     "output_type": "stream",
     "text": [
      "[1] \" Table 4.4 - Average ST Depression within presence\"\n"
     ]
    },
    {
     "data": {
      "text/html": [
       "<table class=\"dataframe\">\n",
       "<caption>A tibble: 2 × 2</caption>\n",
       "<thead>\n",
       "\t<tr><th scope=col>presence</th><th scope=col>average_oldpeak</th></tr>\n",
       "\t<tr><th scope=col>&lt;fct&gt;</th><th scope=col>&lt;dbl&gt;</th></tr>\n",
       "</thead>\n",
       "<tbody>\n",
       "\t<tr><td>FALSE</td><td>0.5910569</td></tr>\n",
       "\t<tr><td>TRUE </td><td>1.5611650</td></tr>\n",
       "</tbody>\n",
       "</table>\n"
      ],
      "text/latex": [
       "A tibble: 2 × 2\n",
       "\\begin{tabular}{ll}\n",
       " presence & average\\_oldpeak\\\\\n",
       " <fct> & <dbl>\\\\\n",
       "\\hline\n",
       "\t FALSE & 0.5910569\\\\\n",
       "\t TRUE  & 1.5611650\\\\\n",
       "\\end{tabular}\n"
      ],
      "text/markdown": [
       "\n",
       "A tibble: 2 × 2\n",
       "\n",
       "| presence &lt;fct&gt; | average_oldpeak &lt;dbl&gt; |\n",
       "|---|---|\n",
       "| FALSE | 0.5910569 |\n",
       "| TRUE  | 1.5611650 |\n",
       "\n"
      ],
      "text/plain": [
       "  presence average_oldpeak\n",
       "1 FALSE    0.5910569      \n",
       "2 TRUE     1.5611650      "
      ]
     },
     "metadata": {},
     "output_type": "display_data"
    },
    {
     "name": "stdout",
     "output_type": "stream",
     "text": [
      "[1] \" Table 4.5 - Average ST Depression overall\"\n"
     ]
    },
    {
     "data": {
      "text/html": [
       "<table class=\"dataframe\">\n",
       "<caption>A tibble: 1 × 1</caption>\n",
       "<thead>\n",
       "\t<tr><th scope=col>average_oldpeak</th></tr>\n",
       "\t<tr><th scope=col>&lt;dbl&gt;</th></tr>\n",
       "</thead>\n",
       "<tbody>\n",
       "\t<tr><td>1.033186</td></tr>\n",
       "</tbody>\n",
       "</table>\n"
      ],
      "text/latex": [
       "A tibble: 1 × 1\n",
       "\\begin{tabular}{l}\n",
       " average\\_oldpeak\\\\\n",
       " <dbl>\\\\\n",
       "\\hline\n",
       "\t 1.033186\\\\\n",
       "\\end{tabular}\n"
      ],
      "text/markdown": [
       "\n",
       "A tibble: 1 × 1\n",
       "\n",
       "| average_oldpeak &lt;dbl&gt; |\n",
       "|---|\n",
       "| 1.033186 |\n",
       "\n"
      ],
      "text/plain": [
       "  average_oldpeak\n",
       "1 1.033186       "
      ]
     },
     "metadata": {},
     "output_type": "display_data"
    }
   ],
   "source": [
    "average_oldpeak <- cleveland_training |>\n",
    "    summarize(average_oldpeak = mean(oldpeak))\n",
    "\n",
    "average_oldpeak_by_type <- cleveland_training |>\n",
    "    group_by(presence) |>\n",
    "    summarize(average_oldpeak = mean(oldpeak))\n",
    "print(\" Table 4.4 - Average ST Depression within presence\")  \n",
    "average_oldpeak_by_type\n",
    "print(\" Table 4.5 - Average ST Depression overall\")  \n",
    "average_oldpeak"
   ]
  },
  {
   "cell_type": "markdown",
   "id": "5e97f02c",
   "metadata": {},
   "source": [
    "From the dataset, the average ST depression is about 1*mm*. Healthy people have much lower ST depression compared to the sample population and the opposite is true for people with heart disease."
   ]
  },
  {
   "cell_type": "code",
   "execution_count": 12,
   "id": "7acd7eff",
   "metadata": {},
   "outputs": [
    {
     "data": {
      "image/png": "[encoded data removed]",
      "text/plain": [
       "plot without title"
      ]
     },
     "metadata": {
      "image/png": {
       "height": 420,
       "width": 420
      }
     },
     "output_type": "display_data"
    }
   ],
   "source": [
    "oldpeak_summary_plot <- cleveland_training |>\n",
    "    ggplot(aes(x = presence, y = oldpeak)) +\n",
    "    geom_boxplot() +\n",
    "    geom_point(position = \"jitter\", alpha = 0.2) +\n",
    "    labs(x = \"Presence of Heart Disease\",y = \"ST depression induced by excercise \\nrelative to rest (mm)\") +\n",
    "    theme(text = element_text(size = 15)) +\n",
    "    ggtitle(\"Fig 4.6 - ST depression distribution\")\n",
    "\n",
    "oldpeak_summary_plot"
   ]
  },
  {
   "cell_type": "markdown",
   "id": "7eed4aac",
   "metadata": {},
   "source": [
    "Electrocardiography is the process of producing an electrocardiogram. It is a graph of voltage versus time of the electrical activity of the heart using electrodes placed on the skin. ST depression refers to a finding on an electrocardiogram, wherein the trace in the ST segment is abnormally low below the baseline. We can see that healthy people tend to don't or have ST depression less than 1*mm* compared to sick people. This is a very good candidate as a predictor variable."
   ]
  },
  {
   "cell_type": "markdown",
   "id": "5876af4c",
   "metadata": {},
   "source": [
    "## Building the Model"
   ]
  },
  {
   "cell_type": "markdown",
   "id": "86e2b89a-7e67-4fd4-b8ee-b3ae11472c7e",
   "metadata": {},
   "source": [
    "### 5. Choose Predicting Variables\n",
    "- ST Depression and Max Heart Rate were chosen as predicting variables because we saw the most variation between presence of heart disease and no presence\n",
    "- this variation hopefully means that these variables are large contributors to the patients presence of heart disease, making it easier to predict "
   ]
  },
  {
   "cell_type": "markdown",
   "id": "7610d839-a5e3-462d-90c0-5762729e5028",
   "metadata": {},
   "source": [
    "### 6.1 Choosing Optimal K Value "
   ]
  },
  {
   "cell_type": "code",
   "execution_count": 18,
   "id": "520635a0",
   "metadata": {},
   "outputs": [
    {
     "data": {
      "image/png": "[encoded data removed]",
      "text/plain": [
       "plot without title"
      ]
     },
     "metadata": {
      "image/png": {
       "height": 420,
       "width": 420
      }
     },
     "output_type": "display_data"
    }
   ],
   "source": [
    "set.seed(8205)\n",
    "\n",
    "knn_tune <- nearest_neighbor(weight_func = \"rectangular\", neighbors = tune()) |>\n",
    "       set_engine(\"kknn\") |>\n",
    "       set_mode(\"classification\")\n",
    "\n",
    "training_recipe <- recipe(presence ~ thalach + oldpeak, data = cleveland_training)|>\n",
    "    step_scale(all_predictors())|>\n",
    "    step_center(all_predictors())\n",
    "\n",
    "k_value <- tibble(neighbors = seq(from = 1, to = 151, by = 10))\n",
    "\n",
    "training_fold <- vfold_cv(cleveland_training, v = 5, strata = presence)\n",
    "\n",
    "training_results <- workflow()|>\n",
    "    add_recipe(training_recipe)|>\n",
    "    add_model(knn_tune)|>\n",
    "    tune_grid(resamples = training_fold, grid = k_value)|>\n",
    "    collect_metrics()\n",
    "\n",
    "accuracies <- training_results|>\n",
    "    filter(.metric == \"accuracy\")\n",
    "\n",
    "cross_val_plot <- ggplot(accuracies, aes(x=neighbors, y=mean))+\n",
    "    geom_point()+\n",
    "    geom_line()+\n",
    "    #geom_vline(xintercept = 81) +\n",
    "    labs(x=\"Neighbors\", y=\"Accuracy Estimate\") + ggtitle(\" Fig. 6.1 - K Value Accuracies\")\n",
    "cross_val_plot"
   ]
  },
  {
   "cell_type": "code",
   "execution_count": 17,
   "id": "0b83963a-b13e-411e-8e9d-08603cb8b58a",
   "metadata": {},
   "outputs": [
    {
     "name": "stdout",
     "output_type": "stream",
     "text": [
      "[1] \"Table 6.1 K Values with Highest Accuracies\"\n"
     ]
    },
    {
     "data": {
      "text/html": [
       "<table class=\"dataframe\">\n",
       "<caption>A tibble: 6 × 7</caption>\n",
       "<thead>\n",
       "\t<tr><th scope=col>neighbors</th><th scope=col>.metric</th><th scope=col>.estimator</th><th scope=col>mean</th><th scope=col>n</th><th scope=col>std_err</th><th scope=col>.config</th></tr>\n",
       "\t<tr><th scope=col>&lt;dbl&gt;</th><th scope=col>&lt;chr&gt;</th><th scope=col>&lt;chr&gt;</th><th scope=col>&lt;dbl&gt;</th><th scope=col>&lt;int&gt;</th><th scope=col>&lt;dbl&gt;</th><th scope=col>&lt;chr&gt;</th></tr>\n",
       "</thead>\n",
       "<tbody>\n",
       "\t<tr><td> 41</td><td>accuracy</td><td>binary</td><td>0.7345850</td><td>5</td><td>0.014847146</td><td>Preprocessor1_Model05</td></tr>\n",
       "\t<tr><td> 21</td><td>accuracy</td><td>binary</td><td>0.7300395</td><td>5</td><td>0.008287445</td><td>Preprocessor1_Model03</td></tr>\n",
       "\t<tr><td>121</td><td>accuracy</td><td>binary</td><td>0.7298419</td><td>5</td><td>0.019392780</td><td>Preprocessor1_Model13</td></tr>\n",
       "\t<tr><td> 31</td><td>accuracy</td><td>binary</td><td>0.7260870</td><td>5</td><td>0.017323236</td><td>Preprocessor1_Model04</td></tr>\n",
       "\t<tr><td> 51</td><td>accuracy</td><td>binary</td><td>0.7256917</td><td>5</td><td>0.018745036</td><td>Preprocessor1_Model06</td></tr>\n",
       "\t<tr><td>131</td><td>accuracy</td><td>binary</td><td>0.7256917</td><td>5</td><td>0.017312524</td><td>Preprocessor1_Model14</td></tr>\n",
       "</tbody>\n",
       "</table>\n"
      ],
      "text/latex": [
       "A tibble: 6 × 7\n",
       "\\begin{tabular}{lllllll}\n",
       " neighbors & .metric & .estimator & mean & n & std\\_err & .config\\\\\n",
       " <dbl> & <chr> & <chr> & <dbl> & <int> & <dbl> & <chr>\\\\\n",
       "\\hline\n",
       "\t  41 & accuracy & binary & 0.7345850 & 5 & 0.014847146 & Preprocessor1\\_Model05\\\\\n",
       "\t  21 & accuracy & binary & 0.7300395 & 5 & 0.008287445 & Preprocessor1\\_Model03\\\\\n",
       "\t 121 & accuracy & binary & 0.7298419 & 5 & 0.019392780 & Preprocessor1\\_Model13\\\\\n",
       "\t  31 & accuracy & binary & 0.7260870 & 5 & 0.017323236 & Preprocessor1\\_Model04\\\\\n",
       "\t  51 & accuracy & binary & 0.7256917 & 5 & 0.018745036 & Preprocessor1\\_Model06\\\\\n",
       "\t 131 & accuracy & binary & 0.7256917 & 5 & 0.017312524 & Preprocessor1\\_Model14\\\\\n",
       "\\end{tabular}\n"
      ],
      "text/markdown": [
       "\n",
       "A tibble: 6 × 7\n",
       "\n",
       "| neighbors &lt;dbl&gt; | .metric &lt;chr&gt; | .estimator &lt;chr&gt; | mean &lt;dbl&gt; | n &lt;int&gt; | std_err &lt;dbl&gt; | .config &lt;chr&gt; |\n",
       "|---|---|---|---|---|---|---|\n",
       "|  41 | accuracy | binary | 0.7345850 | 5 | 0.014847146 | Preprocessor1_Model05 |\n",
       "|  21 | accuracy | binary | 0.7300395 | 5 | 0.008287445 | Preprocessor1_Model03 |\n",
       "| 121 | accuracy | binary | 0.7298419 | 5 | 0.019392780 | Preprocessor1_Model13 |\n",
       "|  31 | accuracy | binary | 0.7260870 | 5 | 0.017323236 | Preprocessor1_Model04 |\n",
       "|  51 | accuracy | binary | 0.7256917 | 5 | 0.018745036 | Preprocessor1_Model06 |\n",
       "| 131 | accuracy | binary | 0.7256917 | 5 | 0.017312524 | Preprocessor1_Model14 |\n",
       "\n"
      ],
      "text/plain": [
       "  neighbors .metric  .estimator mean      n std_err     .config              \n",
       "1  41       accuracy binary     0.7345850 5 0.014847146 Preprocessor1_Model05\n",
       "2  21       accuracy binary     0.7300395 5 0.008287445 Preprocessor1_Model03\n",
       "3 121       accuracy binary     0.7298419 5 0.019392780 Preprocessor1_Model13\n",
       "4  31       accuracy binary     0.7260870 5 0.017323236 Preprocessor1_Model04\n",
       "5  51       accuracy binary     0.7256917 5 0.018745036 Preprocessor1_Model06\n",
       "6 131       accuracy binary     0.7256917 5 0.017312524 Preprocessor1_Model14"
      ]
     },
     "metadata": {},
     "output_type": "display_data"
    }
   ],
   "source": [
    "highest_acc <- accuracies |>\n",
    "    arrange(desc(mean))\n",
    "\n",
    "print(\"Table 6.1 K Values with Highest Accuracies\")\n",
    "head(highest_acc)"
   ]
  },
  {
   "cell_type": "markdown",
   "id": "7d0b47fe-6f25-451d-9be0-527ba42fc4d9",
   "metadata": {},
   "source": [
    "\n",
    "- The training set was tuned using cross validation (v = 5) to find an optimal K value. \n",
    "- The accuracy of each k value was plotted. \n",
    "- a range of k values of 1 to 50 was chosen to limit risk of overfitting. \n",
    "- We saw symmetry in our graph where the highest accuracy was found. The values with the highest accuracy were k = 23,24,27, and 28. \n",
    "- We have selected k=28 as the optimal value for our final KNN model because its surrounding k values accuracy did not decrease significantly compared to the surrounding k values of k = 23,24 and 27."
   ]
  },
  {
   "cell_type": "markdown",
   "id": "4ef01240-071c-4768-8fc2-4675b9f8ce8f",
   "metadata": {},
   "source": [
    "### 6.2 Build Final Model "
   ]
  },
  {
   "cell_type": "markdown",
   "id": "f8658ea6-d3d4-4add-871e-1ebcf6c37ae1",
   "metadata": {},
   "source": [
    "- new model build with workflow containing k = 28 "
   ]
  },
  {
   "cell_type": "code",
   "execution_count": null,
   "id": "2de93356",
   "metadata": {},
   "outputs": [],
   "source": [
    "set.seed(8205)\n",
    "\n",
    "cleveland_spec <- nearest_neighbor(weight_func = \"rectangular\", neighbors = 28) |>\n",
    "       set_engine(\"kknn\") |>\n",
    "       set_mode(\"classification\")\n",
    "\n",
    "cleveland_fit <- workflow() |>\n",
    "       add_recipe(training_recipe) |>\n",
    "       add_model(cleveland_spec) |>\n",
    "       fit(data = cleveland_training)\n",
    "print(\"Figure 6.2 Final model\")\n",
    "cleveland_fit"
   ]
  },
  {
   "cell_type": "markdown",
   "id": "d483b469-3ef4-4bcc-a66f-c8eb8f9215f7",
   "metadata": {},
   "source": [
    "### 7. Evaluate Final Model "
   ]
  },
  {
   "cell_type": "markdown",
   "id": "d7e08898-c6e0-4b79-b143-e624456b730f",
   "metadata": {},
   "source": [
    "We can now evaluate the accuracy of our prediciting model against our testing set."
   ]
  },
  {
   "cell_type": "code",
   "execution_count": null,
   "id": "91f6b0e9",
   "metadata": {},
   "outputs": [],
   "source": [
    "cleveland_predict<-predict(cleveland_fit, cleveland_testing)|>\n",
    "    bind_cols(cleveland_testing)\n",
    "\n",
    "cleveland_metrics<-cleveland_predict |>\n",
    "    metrics(truth = presence, estimate = .pred_class)|>\n",
    "    select(.metric, .estimate)\n",
    "print(\"Table 7.1 Cleveland Metrics\") \n",
    "cleveland_metrics\n",
    "\n",
    "cleveland_confusion<-cleveland_predict|>\n",
    "    conf_mat(truth = presence, estimate = .pred_class)\n",
    "print(\"Table 7.2 Cleveland Confusion Matrix\") \n",
    "cleveland_confusion"
   ]
  },
  {
   "cell_type": "markdown",
   "id": "d6bc6bb2-09e5-4e72-8ee3-1df6a52f7b82",
   "metadata": {},
   "source": [
    "# Visualization of Results"
   ]
  },
  {
   "cell_type": "markdown",
   "id": "32aed4db-bace-4012-838d-25e4952d0ed7",
   "metadata": {},
   "source": [
    "We wanted to visualize the areas on the graph that are assigned to the each diagnosis of heart disease. This was achieved by creating data points at every area on the graph and assigning them a prediction to highlight the blue (heart disease) and orange(no heart disease) areas. Then we plotted these highlighting areas with the Cleveland data to create a visual representation of where the predicting model failed to accurately predict the presence of heart disease."
   ]
  },
  {
   "cell_type": "code",
   "execution_count": 14,
   "id": "796c3083",
   "metadata": {},
   "outputs": [
    {
     "ename": "ERROR",
     "evalue": "Error in predict(cleveland_fit, togrid): object 'cleveland_fit' not found\n",
     "output_type": "error",
     "traceback": [
      "Error in predict(cleveland_fit, togrid): object 'cleveland_fit' not found\nTraceback:\n",
      "1. predict(cleveland_fit, togrid)"
     ]
    }
   ],
   "source": [
    "# Creating data points with predicting variables from max to min for each variable\n",
    "thalach_grid <- seq(from = min(cleveland_data$thalach), to = max(cleveland_data$thalach), length.out = 100)\n",
    "oldpeak_grid <- seq(from = min(cleveland_data$oldpeak), to = max(cleveland_data$oldpeak), length.out = 100)\n",
    "\n",
    "togrid <- as_tibble(expand.grid(thalach = thalach_grid, \n",
    "                                oldpeak = oldpeak_grid))\n",
    "\n",
    "knnPredGrid <- predict(cleveland_fit, togrid)\n",
    "\n",
    "prediction_table <- bind_cols(knnPredGrid, togrid) |> \n",
    "  rename(presence = .pred_class)\n",
    "\n",
    "cleveland_vis <- ggplot() +\n",
    "    geom_point(data = cleveland_data, \n",
    "               mapping = aes(x = thalach, \n",
    "                             y = oldpeak, \n",
    "                             color = presence), \n",
    "               alpha = 0.75) +\n",
    "    geom_point(data = prediction_table,         # Highlighting the prediction areas\n",
    "               mapping = aes(x = thalach, \n",
    "                             y = oldpeak, \n",
    "                             color = presence), \n",
    "               alpha = 0.02, \n",
    "               size = 5) +\n",
    "    labs(color = \"Diagnosis\", \n",
    "         x = \"Maximum Heart Rate (bpm)\", \n",
    "         y = \"ST Depression\") +\n",
    "    scale_color_manual(labels = c(\"No Presence\", \"Presence of Heart Disease\"), \n",
    "                       values = c(\"orange2\", \"steelblue2\")) +\n",
    "    theme(text = element_text(size = 12))+\n",
    "    ggtitle(\"Fig 7.3 - Areas of Diangoisis from ST Depression and Max Heart Rate\") \n",
    "\n",
    "cleveland_vis"
   ]
  },
  {
   "cell_type": "markdown",
   "id": "3c7c46a5",
   "metadata": {},
   "source": [
    "# Discussion"
   ]
  },
  {
   "cell_type": "markdown",
   "id": "eb76a49b-9292-4ed6-b5a7-36650db54bfc",
   "metadata": {},
   "source": [
    "Our goal is to predict whether a patient has heart disease based on their basic medical information such as ST depression, blood pressure, serum cholesterol, maximum heart rate, *etc,.* We are expecting that if a patient’s testing result of a predictor variable, in our case, [maximum heart rate](#Maximum-Heart-Rate) and ST depression ([oldpeak](#ST-Depression)), falls into a specific range then the person is more likely to have heart disease. \n",
    "\n",
    "Such findings would lead to positive impacts on society because being able to predict the presence of heart disease with these variables could allow for early diagnosis. This could allow us to treat the disease as early as possible, before the disease becomes too harmful.  \n",
    "\n",
    "Our findings could lead to some future questions, such as is there a specific range of maximum heart rate and ST depression that can predict the level of heart disease. Or are there other variables that are more accurate at predicting heart disease that are not present in this data set? Such a question requires further analysis of the data, and we would likely need a dataset consisting of more patient observations.\n"
   ]
  },
  {
   "cell_type": "markdown",
   "id": "609b4df1",
   "metadata": {},
   "source": [
    "# References"
   ]
  },
  {
   "cell_type": "code",
   "execution_count": null,
   "id": "6f57a684-32ba-4c69-8df2-5081d5648bb4",
   "metadata": {},
   "outputs": [],
   "source": []
  }
 ],
 "metadata": {
  "kernelspec": {
   "display_name": "R",
   "language": "R",
   "name": "ir"
  },
  "language_info": {
   "codemirror_mode": "r",
   "file_extension": ".r",
   "mimetype": "text/x-r-source",
   "name": "R",
   "pygments_lexer": "r",
   "version": "4.1.3"
  }
 },
 "nbformat": 4,
 "nbformat_minor": 5
}
