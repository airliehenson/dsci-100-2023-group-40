{
 "cells": [
  {
   "cell_type": "code",
   "execution_count": 76,
   "id": "ffcfeb60-42d4-4550-a587-6ea4333b5215",
   "metadata": {},
   "outputs": [
    {
     "ename": "ERROR",
     "evalue": "Error in library(themis): there is no package called ‘themis’\n",
     "output_type": "error",
     "traceback": [
      "Error in library(themis): there is no package called ‘themis’\nTraceback:\n",
      "1. library(themis)"
     ]
    }
   ],
   "source": [
    "library(tidyverse)\n",
    "library(repr)\n",
    "library(tidymodels)\n",
    "library(RColorBrewer)\n",
    "options(repr.matrix.max.rows = 30)\n",
    "\n",
    "set.seed(8205)"
   ]
  },
  {
   "cell_type": "markdown",
   "id": "c7d288ce-0227-44d9-af4f-cc714a768a09",
   "metadata": {},
   "source": [
    " # Reading in Heart Disease Data"
   ]
  },
  {
   "cell_type": "code",
   "execution_count": null,
   "id": "96dfae78-c52b-4069-ab4e-06a9881110b0",
   "metadata": {},
   "outputs": [],
   "source": [
    "\n",
    "#download.file(\"https://archive.ics.uci.edu/ml/machine-learning-databases/heart-disease/processed.switzerland.data\",\n",
    "            #  destfile = \"./switzerland_data.data\")\n",
    "\n",
    "#read_csv(\"https://archive.ics.uci.edu/ml/machine-learning-databases/heart-disease/switzerland.data/processed.switzerland.data\")\n",
    "\n",
    "cleveland_data <- read_csv(\"https://archive.ics.uci.edu/ml/machine-learning-databases/heart-disease/processed.cleveland.data\", col_names = FALSE) |>\n",
    "    rename(age      = X1,      # Age in years\n",
    "           sex      = X2,      # Sex (1 = male, 0 = female)\n",
    "           cp       = X3,      # Chest pain type \n",
    "                               # - 1 : typical angina\n",
    "                               # - 2 : atypical angina\n",
    "                               # - 3 : non-anginal pain\n",
    "                               # - 4 : asymptomatic\n",
    "           trestbps = X4,      # Resting blood pressure (mmHg)\n",
    "           chol     = X5,      # Serum cholestoral (mg/dL)\n",
    "           fbs      = X6,      # Fasting blood sugar > 120 mg/dL (1 = true, 0 = false)\n",
    "           restecg  = X7,      # Resting electrocardiographic results \n",
    "                               # - 0 : normal,\n",
    "                               # - 1 : having ST-T wave abnormality (T wave inversions and/or ST \n",
    "                               #       elevation or depression of > 0.05 mV)\n",
    "                               # - 2 : showing probable or definite left ventricular hypertrophy by Estes' criteria\n",
    "           thalach  = X8,      # Maximum heart rate achieved\n",
    "           exang    = X9,      # Exercise induced angina (0 = no, 1 = yes)\n",
    "           oldpeak  = X10,     # ST depression induced by exercise relative to rest\n",
    "           slope    = X11,     # The slope of the peak exercise ST segment\n",
    "                               # - 1 : upsloping\n",
    "                               # - 2 : flat\n",
    "                               # - 3 : downsloping\n",
    "           ca       = X12,     # Number of major vessels (0-3) colored by flourosopy\n",
    "           thal     = X13,     # 3 = normal; 6 = fixed defect; 7 = reversable defect\n",
    "           num      = X14)     # diagnosis of heart disease (angiographic disease status)\n",
    "\n",
    "cleveland_data"
   ]
  },
  {
   "cell_type": "markdown",
   "id": "00316bf6-af0c-4a4d-9a76-5e1da4e82955",
   "metadata": {},
   "source": [
    "# Data wrangling"
   ]
  },
  {
   "cell_type": "code",
   "execution_count": null,
   "id": "6cf75176-ce6b-445b-8a2f-c27b4b58fb21",
   "metadata": {},
   "outputs": [],
   "source": [
    "cleveland_data <- cleveland_data |>\n",
    "    mutate(age      = as.integer(age),\n",
    "           sex      = as.factor(sex),\n",
    "           cp       = as.factor(cp),\n",
    "           trestbps = as.integer(trestbps),\n",
    "           chol     = as.integer(chol),\n",
    "           fbs      = as.factor(fbs),\n",
    "           restecg  = as.factor(restecg),\n",
    "           thalach  = as.integer(thalach),\n",
    "           exang    = as.factor(exang),\n",
    "           oldpeak  = as.double(oldpeak),\n",
    "           slope    = as.factor(slope),\n",
    "           ca       = as.integer(ca),\n",
    "           thal     = as.factor(thal),\n",
    "           num      = as.factor(num))\n",
    "\n",
    "cleveland_data"
   ]
  },
  {
   "cell_type": "code",
   "execution_count": null,
   "id": "1cff970d-b093-4d0a-bb42-5de57eaa36b4",
   "metadata": {},
   "outputs": [],
   "source": [
    "# Splitting the data into training and testing sets\n",
    "cleveland_split <- initial_split(cleveland_data, prop = 0.75, strata = num)\n",
    "cleveland_training <- training(cleveland_split) \n",
    "cleveland_testing <- testing(cleveland_split)"
   ]
  },
  {
   "cell_type": "markdown",
   "id": "4267e6cc-6f23-49e9-bc60-20c04a69453e",
   "metadata": {},
   "source": [
    "# Exploratory data analysis"
   ]
  },
  {
   "cell_type": "markdown",
   "id": "4ff8a220-7a35-41eb-88d7-393df4feee58",
   "metadata": {},
   "source": [
    "### Heart Disease Summary"
   ]
  },
  {
   "cell_type": "code",
   "execution_count": null,
   "id": "107778d3-7283-49ba-bec4-dcd15dd77bcb",
   "metadata": {},
   "outputs": [],
   "source": [
    "target_summary <- cleveland_training |>\n",
    "    group_by(num) |>\n",
    "    summarize(count = n())\n",
    "target_summary"
   ]
  },
  {
   "cell_type": "code",
   "execution_count": null,
   "id": "fa081b9d-6668-4346-ad6f-fb29dd26f6f2",
   "metadata": {},
   "outputs": [],
   "source": [
    "target_summary_plot <- target_summary |>\n",
    "    ggplot(aes(x =  num, y = count, fill = num)) +\n",
    "    geom_bar(stat = \"identity\") +\n",
    "    labs(x = \"Type\", y = \"Count\", fill = \"Type of Heart Disease\") +\n",
    "    theme(text = element_text(size = 15))\n",
    "\n",
    "target_summary_plot"
   ]
  },
  {
   "cell_type": "markdown",
   "id": "3fd76311-6c9a-4a8e-a484-62fa109752d8",
   "metadata": {},
   "source": [
    "From the dataset, the majority of patients do not have any presence of heart disease. For those who have presence of a heart disease, most have **Type 1** whereas **Type 4** is the least common."
   ]
  },
  {
   "cell_type": "markdown",
   "id": "abd8c0fe-ddf6-460d-966c-97d5310d8248",
   "metadata": {},
   "source": [
    "### Demographics"
   ]
  },
  {
   "cell_type": "code",
   "execution_count": null,
   "id": "795a0162-0c4e-4d19-b222-355f2ff628af",
   "metadata": {},
   "outputs": [],
   "source": [
    "demographic_summary <- cleveland_training |>\n",
    "    group_by(sex) |>\n",
    "    summarize(count = n(), average_age = mean(age))\n",
    "demographic_summary"
   ]
  },
  {
   "cell_type": "code",
   "execution_count": null,
   "id": "f6a21fc9-be65-4ecc-b188-747910f500e3",
   "metadata": {},
   "outputs": [],
   "source": [
    "demographic_sex_summary_plot <- demographic_summary |>\n",
    "    ggplot(aes(x =  sex, y = count, fill = sex)) +\n",
    "    geom_bar(stat = \"identity\") +\n",
    "    labs(x = \"Sex\", y = \"Count\", fill = \"Sex\") +\n",
    "    scale_fill_discrete(labels = c(\"Female\", \"Male\")) +\n",
    "    theme(text = element_text(size = 15))\n",
    "\n",
    "demographic_age_summary_plot <- cleveland_training |>\n",
    "    ggplot(aes(x =  age, fill = sex)) +\n",
    "    geom_histogram(binwidth = 2) +\n",
    "    labs(x = \"Age\", y =  \"Count\", fill = \"Sex\") +\n",
    "    scale_fill_discrete(labels = c(\"Female\", \"Male\")) +\n",
    "    facet_grid(rows = vars(sex)) +\n",
    "    theme(text = element_text(size = 15))\n",
    "\n",
    "demographic_sex_summary_plot\n",
    "demographic_age_summary_plot"
   ]
  },
  {
   "cell_type": "markdown",
   "id": "25768158-fe03-44bb-8392-224975be01bb",
   "metadata": {},
   "source": [
    "The number of male double that of female participants. The average age for this dataset is around 54 years old. In addition, the average age of the male is slightly younger than female participants."
   ]
  },
  {
   "cell_type": "markdown",
   "id": "d4eb2e40-cedf-4586-8b40-d28747fbb404",
   "metadata": {},
   "source": [
    "### Blood Pressure"
   ]
  },
  {
   "cell_type": "code",
   "execution_count": null,
   "id": "a21f0f8d-d1fb-44a0-ab44-3f1902cc5378",
   "metadata": {},
   "outputs": [],
   "source": [
    "average_restbps <- cleveland_training |>\n",
    "    summarize(average_restbps = mean(trestbps))\n",
    "average_restbps"
   ]
  },
  {
   "cell_type": "markdown",
   "id": "b50e559b-aea1-4d12-b338-03de048545af",
   "metadata": {},
   "source": [
    "The average resting blood pressure of all participants is 132*mmHg*. Let's see how this would affect the type of heart disease."
   ]
  },
  {
   "cell_type": "code",
   "execution_count": null,
   "id": "0f82e629-2a36-4dd1-a7b3-f75679bdd85c",
   "metadata": {},
   "outputs": [],
   "source": [
    "average_restbps_by_type <- cleveland_training |>\n",
    "    group_by(num) |>\n",
    "    summarize(average_restbps = mean(trestbps))\n",
    "average_restbps_by_type"
   ]
  },
  {
   "cell_type": "code",
   "execution_count": null,
   "id": "248865ea-fd1e-4a54-91ee-789bb01ddce0",
   "metadata": {},
   "outputs": [],
   "source": [
    "restbps_summary_plot <- cleveland_training |>\n",
    "    ggplot(aes(x = trestbps, fill = num)) +\n",
    "    geom_histogram(binwidth = 5) +\n",
    "    geom_vline(xintercept = 132.33, linetype = \"dashed\", size = 1.0) +\n",
    "    labs(x = \"Resting Blood Pressure (mmHg)\", fill = \"Type of Heart Disease\") +\n",
    "    facet_grid(rows = vars(num)) +\n",
    "    theme(text = element_text(size = 15))\n",
    "\n",
    "restbps_summary_plot"
   ]
  },
  {
   "cell_type": "markdown",
   "id": "fdacef93-5873-4bcb-86b3-27aad81acffb",
   "metadata": {},
   "source": [
    "People with no presence of heart disease have lower average resting blood pressure. Those who do tend to have slightly higher resting blood pressure with worse cases of heart disease."
   ]
  },
  {
   "cell_type": "markdown",
   "id": "0d6468fe-4f91-4e65-b9d6-9f8c9959c9ca",
   "metadata": {},
   "source": [
    "### Serum Cholestoral"
   ]
  },
  {
   "cell_type": "code",
   "execution_count": null,
   "id": "cf07236e-26e4-489c-ac22-9c97e60754c0",
   "metadata": {},
   "outputs": [],
   "source": [
    "average_chol <- cleveland_training |>\n",
    "    summarize(average_chol = mean(chol))\n",
    "average_chol"
   ]
  },
  {
   "cell_type": "markdown",
   "id": "1ee7154d-4e0b-477b-a500-ffbec7134cac",
   "metadata": {},
   "source": [
    "The average serum cholestoral in the data set is 248.5*mg/dL*. Let's see what's the average for each type of heart disease."
   ]
  },
  {
   "cell_type": "code",
   "execution_count": null,
   "id": "b39fd018-fe7a-4579-bc57-f8a64803d9f7",
   "metadata": {},
   "outputs": [],
   "source": [
    "average_chol_by_type <- cleveland_training |>\n",
    "    group_by(num) |>\n",
    "    summarize(average_chol = mean(chol))\n",
    "average_chol_by_type"
   ]
  },
  {
   "cell_type": "code",
   "execution_count": null,
   "id": "2ca30976-684f-458e-b812-6ace72b1dbed",
   "metadata": {},
   "outputs": [],
   "source": [
    "chol_summary_plot <- cleveland_training |>\n",
    "    ggplot(aes(x = chol, fill = num)) +\n",
    "    geom_histogram(binwidth = 15) +\n",
    "    geom_vline(xintercept = 248.5, linetype = \"dashed\", size = 1.0) +\n",
    "    labs(x = \"Serum Cholestoral (mg/dL)\", y = \"Count\", fill = \"Type of Heart Disease\") +\n",
    "    facet_grid(rows = vars(num)) +\n",
    "    theme(text = element_text(size = 15))\n",
    "\n",
    "chol_summary_plot"
   ]
  },
  {
   "cell_type": "markdown",
   "id": "e9d0cedd-3f55-446f-af71-0c181abe0834",
   "metadata": {},
   "source": [
    "### Fasting Blood Sugar"
   ]
  },
  {
   "cell_type": "code",
   "execution_count": null,
   "id": "1ba54d79-5fd7-4e8e-a5ab-350a84dfa0a8",
   "metadata": {},
   "outputs": [],
   "source": [
    "#pull the number of instances of each type of heart disease\n",
    "disease_count <- c(123, 42, 26, 27, 8)\n",
    "\n",
    "fbs_summary <- cleveland_training |>\n",
    "    group_by(num, fbs) |>\n",
    "    summarize(count = n()) \n",
    "\n",
    "fbs_lower_than_proportion <- fbs_summary |>\n",
    "    filter(fbs == 0) |> \n",
    "    bind_cols(type_count = disease_count) |>\n",
    "    mutate(lower_than_proportion = count / type_count) |>\n",
    "    select(num, lower_than_proportion)\n",
    "\n",
    "fbs_summary\n",
    "fbs_lower_than_proportion"
   ]
  },
  {
   "cell_type": "code",
   "execution_count": null,
   "id": "bf2a6421-0e9e-49f8-93dd-c5571ed53e7d",
   "metadata": {},
   "outputs": [],
   "source": [
    "fbs_summary_plot <- cleveland_training |>\n",
    "    ggplot(aes(x = num, fill = fbs)) +\n",
    "    geom_bar(position = \"fill\") +\n",
    "    labs(x = \"Type of Heart Disease\", y = \"Proportion\", fill = \"Fasting blood sugar \\ngreater than 120mg/dL\") +\n",
    "    scale_fill_discrete(labels = c(\"False\", \"True\")) +\n",
    "    theme(text = element_text(size = 15))\n",
    "fbs_summary_plot"
   ]
  },
  {
   "cell_type": "markdown",
   "id": "e765b7da-71fb-4754-9b44-ef9da9af19c6",
   "metadata": {},
   "source": [
    "### Resting electrocardiographic"
   ]
  },
  {
   "cell_type": "code",
   "execution_count": null,
   "id": "f813954e-404a-48c9-8e2a-891424f678c8",
   "metadata": {},
   "outputs": [],
   "source": [
    "restecg_summary <- cleveland_training |>\n",
    "    group_by(num, restecg) |>\n",
    "    summarize(count = n()) |>\n",
    "    filter(restecg == 0) |> \n",
    "    bind_cols(type_count = disease_count) |>\n",
    "    mutate(normal_proportion = count / type_count) |>\n",
    "    select(num, normal_proportion)\n",
    "restecg_summary"
   ]
  },
  {
   "cell_type": "code",
   "execution_count": null,
   "id": "e0693f34-0628-4815-968b-2d5ceade62b2",
   "metadata": {},
   "outputs": [],
   "source": [
    "restecg_summary_plot <- cleveland_training |>\n",
    "    ggplot(aes(x = num, fill = restecg)) +\n",
    "    geom_bar(position = \"fill\") +\n",
    "    labs(x = \"Type of Heart Disease\", y = \"Proportion\", fill = \"Resting electrocardiographic results\") +\n",
    "    scale_fill_discrete(labels = c(\"Normal\", \"ST-T wave abnormality\", \"Probable/definite \\nleft ventricular hypertrophy\")) +\n",
    "    theme(text = element_text(size = 15))\n",
    "restecg_summary_plot"
   ]
  },
  {
   "cell_type": "markdown",
   "id": "1e3d3b2d-3d31-4934-9353-c2d37ae06b94",
   "metadata": {},
   "source": [
    "### Maximum Heart Rate"
   ]
  },
  {
   "cell_type": "code",
   "execution_count": null,
   "id": "0ae90ff3-dcb5-46d8-a81f-dde1662b3131",
   "metadata": {},
   "outputs": [],
   "source": [
    "average_thalach <- cleveland_training |>\n",
    "    summarize(average_thalach = mean(thalach))\n",
    "average_thalach"
   ]
  },
  {
   "cell_type": "code",
   "execution_count": null,
   "id": "1200b4c5-49d1-4be9-985e-f685c03bca18",
   "metadata": {},
   "outputs": [],
   "source": [
    "average_thalach_by_type <- cleveland_training |>\n",
    "    group_by(num) |>\n",
    "    summarize(average_thalach = mean(thalach))\n",
    "average_thalach_by_type"
   ]
  },
  {
   "cell_type": "code",
   "execution_count": null,
   "id": "8533e5d6-4961-485e-8a6a-42d20d8d009f",
   "metadata": {},
   "outputs": [],
   "source": [
    "thalach_summary_plot <- cleveland_training |>\n",
    "    ggplot(aes(x = thalach, fill = num)) +\n",
    "    geom_histogram(binwidth = 5) +\n",
    "    geom_vline(xintercept = 149.5, linetype = \"dashed\", size = 1.0) +\n",
    "    facet_grid(rows = vars(num)) +\n",
    "    labs(x = \"Maximum Heart Rate Achieved\", fill = \"Type of Heart Disease\")\n",
    "\n",
    "thalach_summary_plot"
   ]
  },
  {
   "cell_type": "markdown",
   "id": "2c00aa8b-4695-4a69-b3cf-d7858a812b14",
   "metadata": {},
   "source": [
    "### Exercise Induced Angina"
   ]
  },
  {
   "cell_type": "code",
   "execution_count": null,
   "id": "ada497ea-b581-408c-b5c1-723d32b8af40",
   "metadata": {},
   "outputs": [],
   "source": [
    "exang_summary <- cleveland_training |>\n",
    "    group_by(num, exang) |>\n",
    "    summarize(count = n()) \n",
    "\n",
    "exang_proportion <- exang_summary |>\n",
    "    filter(exang == 0) |> \n",
    "    bind_cols(type_count = disease_count) |>\n",
    "    mutate(exang_proportion = count / type_count) |>\n",
    "    select(num, exang_proportion)\n",
    "\n",
    "exang_summary\n",
    "exang_proportion"
   ]
  },
  {
   "cell_type": "code",
   "execution_count": null,
   "id": "dfa5b3da-b7d3-4421-a732-98d3819a7def",
   "metadata": {},
   "outputs": [],
   "source": [
    "exang_summary_plot <- cleveland_training |>\n",
    "    ggplot(aes(x = num, fill = exang)) +\n",
    "    geom_bar(position = \"fill\") +\n",
    "    labs(x = \"Type of Heart Disease\", y = \"Proportion\", fill = \"Excercise induced angina\") +\n",
    "    scale_fill_discrete(labels = c(\"False\", \"True\")) +\n",
    "    theme(text = element_text(size = 15))\n",
    "exang_summary_plot"
   ]
  },
  {
   "cell_type": "markdown",
   "id": "0a25e6a3-d10c-4eb9-abae-5052048ce2e7",
   "metadata": {},
   "source": [
    "### ST Depression"
   ]
  },
  {
   "cell_type": "code",
   "execution_count": null,
   "id": "735ff888-510f-49ed-bcea-ffe4e61572ad",
   "metadata": {},
   "outputs": [],
   "source": [
    "average_oldpeak <- cleveland_training |>\n",
    "    summarize(average_oldpeak = mean(oldpeak))\n",
    "average_oldpeak"
   ]
  },
  {
   "cell_type": "code",
   "execution_count": null,
   "id": "a2db017b-681a-496d-8a4f-335eec31a98d",
   "metadata": {},
   "outputs": [],
   "source": [
    "average_oldpeak_by_type <- cleveland_training |>\n",
    "    group_by(num) |>\n",
    "    summarize(average_oldpeak = mean(oldpeak))\n",
    "average_oldpeak_by_type"
   ]
  },
  {
   "cell_type": "code",
   "execution_count": null,
   "id": "5f1e06e4-a8c8-4c17-90fb-0c19689ed71f",
   "metadata": {},
   "outputs": [],
   "source": [
    "oldpeak_summary_plot <- cleveland_training |>\n",
    "    ggplot(aes(x = oldpeak, fill = num)) +\n",
    "    geom_histogram(binwidth = 0.2) +\n",
    "    geom_vline(xintercept = 1.033, linetype = \"dashed\", size = 1.0) +\n",
    "    facet_grid(rows = vars(num))\n",
    "\n",
    "oldpeak_summary_plot"
   ]
  },
  {
   "cell_type": "markdown",
   "id": "2f49283a-c6ae-4e29-a674-b9eb5dcb7300",
   "metadata": {},
   "source": [
    "### Slope of the Peak Exercise ST Segment"
   ]
  },
  {
   "cell_type": "code",
   "execution_count": null,
   "id": "02413b15-3053-45aa-b751-eec159cfc906",
   "metadata": {},
   "outputs": [],
   "source": [
    "slope_summary <- cleveland_training |>\n",
    "    group_by(num, slope) |>\n",
    "    summarize(count = n()) \n",
    "slope_summary"
   ]
  },
  {
   "cell_type": "code",
   "execution_count": null,
   "id": "28353e24-820c-40cb-bd64-86b86ee67041",
   "metadata": {},
   "outputs": [],
   "source": [
    "slope_summary_plot <- cleveland_training |>\n",
    "    ggplot(aes(x = num, fill = slope)) +\n",
    "    geom_bar(position = \"fill\") +\n",
    "    labs(x = \"Type of Heart Disease\",y = \"Proportion\", fill = \"Slope of peak exercise ST segments\") +\n",
    "    scale_fill_discrete(labels = c(\"Upsloping\", \"Flat\", \"Downsloping\")) +\n",
    "    theme(text = element_text(size = 15))\n",
    "slope_summary_plot"
   ]
  },
  {
   "cell_type": "markdown",
   "id": "a6bb1891-99c1-4921-a7c4-dc958cb77284",
   "metadata": {},
   "source": [
    "### Number of major vessels colored by flourosopy"
   ]
  },
  {
   "cell_type": "code",
   "execution_count": null,
   "id": "d24c509f-2a29-4cf7-ba37-78e4f9a16755",
   "metadata": {},
   "outputs": [],
   "source": [
    "ca_summary <- cleveland_training |>\n",
    "    filter(!is.na(ca)) |>\n",
    "    group_by(num, ca) |>\n",
    "    summarize(count = n()) \n",
    "\n",
    "ca_summary"
   ]
  },
  {
   "cell_type": "code",
   "execution_count": null,
   "id": "4981f09e-db5a-4d77-af86-e5d2f16491c9",
   "metadata": {},
   "outputs": [],
   "source": [
    "ca_summary_plot <- cleveland_training |>\n",
    "    filter(!is.na(ca)) |>\n",
    "    ggplot(aes(x = num, fill = as.factor(ca))) +\n",
    "    geom_bar(position = \"fill\") +\n",
    "    labs(x = \"Type of Heart Disease\", y = \"Proportion\",\n",
    "         fill = \"Number of major vessels \\ncolored by flourosopy\") +\n",
    "    scale_fill_discrete(labels = c(0, 1, 2, 3)) +\n",
    "    theme(text = element_text(size = 15))\n",
    "ca_summary_plot"
   ]
  },
  {
   "cell_type": "markdown",
   "id": "c83c3031-bc31-4ef3-9a12-897316ba05b3",
   "metadata": {},
   "source": [
    "### Choosing Predictor Variables"
   ]
  },
  {
   "cell_type": "code",
   "execution_count": null,
   "id": "fbaaf46d-845d-4ae9-aaa9-47203711ff9b",
   "metadata": {},
   "outputs": [],
   "source": [
    "heart_disease_subset <- cleveland_training |>\n",
    "    select(trestbps,\n",
    "           chol,\n",
    "           thalach,\n",
    "           oldpeak,\n",
    "           num)\n",
    "names <- colnames(heart_disease_subset |> select(-num))"
   ]
  },
  {
   "cell_type": "code",
   "execution_count": null,
   "id": "b6bf70c3-f2a4-4844-9aa3-4223665f8561",
   "metadata": {},
   "outputs": [],
   "source": [
    "# create an empty tibble to store the results\n",
    "accuracies <- tibble(size = integer(), \n",
    "                     model_string = character(), \n",
    "                     accuracy = numeric())\n",
    "\n",
    "# create a model specification\n",
    "knn_spec <- nearest_neighbor(weight_func = \"rectangular\", \n",
    "                             neighbors = tune()) |>\n",
    "     set_engine(\"kknn\") |>\n",
    "     set_mode(\"classification\")\n",
    "\n",
    "# create a 5-fold cross-validation object\n",
    "heart_disease_vfold <- vfold_cv(heart_disease_subset, v = 5, strata = num)\n",
    "\n",
    "# store the total number of predictors\n",
    "n_total <- length(names)\n",
    "\n",
    "# stores selected predictors\n",
    "selected <- c()\n",
    "\n",
    "# for every size from 1 to the total number of predictors\n",
    "for (i in 1:length(names)) {\n",
    "    # for every predictor still not added yet\n",
    "    accs <- list()\n",
    "    models <- list()\n",
    "    for (j in 1:length(names)) {\n",
    "        # create a model string for this combination of predictors\n",
    "        preds_new <- c(selected, names[[j]])\n",
    "        model_string <- paste(\"num\", \"~\", paste(preds_new, collapse=\"+\"))\n",
    "\n",
    "        # create a recipe from the model string\n",
    "        heart_disease_recipe <- recipe(as.formula(model_string), \n",
    "                                data = heart_disease_subset) |>\n",
    "                          step_scale(all_predictors()) |>\n",
    "                          step_center(all_predictors()) \n",
    "\n",
    "        # tune the KNN classifier with these predictors, \n",
    "        # and collect the accuracy for the best K\n",
    "        acc <- workflow() |>\n",
    "          add_recipe(heart_disease_recipe) |>\n",
    "          add_model(knn_spec) |>\n",
    "          tune_grid(resamples = heart_disease_vfold, grid = 10) |>\n",
    "          collect_metrics() |>\n",
    "          filter(.metric == \"accuracy\") |>\n",
    "          summarize(mx = max(mean))\n",
    "        acc <- acc$mx |> unlist()\n",
    "\n",
    "        # add this result to the dataframe\n",
    "        accs[[j]] <- acc\n",
    "        models[[j]] <- model_string\n",
    "    }\n",
    "    jstar <- which.max(unlist(accs))\n",
    "    accuracies <- accuracies |> \n",
    "      add_row(size = i, \n",
    "              model_string = models[[jstar]], \n",
    "              accuracy = accs[[jstar]])\n",
    "    selected <- c(selected, names[[jstar]])\n",
    "    names <- names[-jstar]\n",
    "}\n",
    "accuracies"
   ]
  },
  {
   "cell_type": "code",
   "execution_count": null,
   "id": "10f795c9-b666-4fdd-a840-4f40d55e9e7d",
   "metadata": {},
   "outputs": [],
   "source": []
  }
 ],
 "metadata": {
  "kernelspec": {
   "display_name": "R",
   "language": "R",
   "name": "ir"
  },
  "language_info": {
   "codemirror_mode": "r",
   "file_extension": ".r",
   "mimetype": "text/x-r-source",
   "name": "R",
   "pygments_lexer": "r",
   "version": "4.1.3"
  }
 },
 "nbformat": 4,
 "nbformat_minor": 5
}
