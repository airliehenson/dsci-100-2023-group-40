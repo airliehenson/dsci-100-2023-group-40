{
 "cells": [
  {
   "cell_type": "code",
   "execution_count": 1,
   "id": "ffcfeb60-42d4-4550-a587-6ea4333b5215",
   "metadata": {},
   "outputs": [],
   "source": [
    "library(tidyverse)\n",
    "library(repr)\n",
    "library(tidymodels)\n",
    "options(repr.matrix.max.rows = 6)\n",
    "\n",
    "set.seed(8205)"
   ]
  },
  {
   "cell_type": "markdown",
   "id": "c7d288ce-0227-44d9-af4f-cc714a768a09",
   "metadata": {},
   "source": [
    " # Reading in Heart Disease Data"
   ]
  },
  {
   "cell_type": "code",
   "execution_count": 2,
   "id": "96dfae78-c52b-4069-ab4e-06a9881110b0",
   "metadata": {},
   "outputs": [
    {
     "name": "stderr",
     "output_type": "stream",
     "text": [
      "\u001b[1mRows: \u001b[22m\u001b[34m303\u001b[39m \u001b[1mColumns: \u001b[22m\u001b[34m14\u001b[39m\n",
      "\u001b[36m──\u001b[39m \u001b[1mColumn specification\u001b[22m \u001b[36m────────────────────────────────────────────────────────\u001b[39m\n",
      "\u001b[1mDelimiter:\u001b[22m \",\"\n",
      "\u001b[31mchr\u001b[39m  (2): X12, X13\n",
      "\u001b[32mdbl\u001b[39m (12): X1, X2, X3, X4, X5, X6, X7, X8, X9, X10, X11, X14\n",
      "\n",
      "\u001b[36mℹ\u001b[39m Use `spec()` to retrieve the full column specification for this data.\n",
      "\u001b[36mℹ\u001b[39m Specify the column types or set `show_col_types = FALSE` to quiet this message.\n"
     ]
    },
    {
     "data": {
      "text/html": [
       "<table class=\"dataframe\">\n",
       "<caption>A spec_tbl_df: 303 × 14</caption>\n",
       "<thead>\n",
       "\t<tr><th scope=col>age</th><th scope=col>sex</th><th scope=col>cp</th><th scope=col>trestbps</th><th scope=col>chol</th><th scope=col>fbs</th><th scope=col>restecg</th><th scope=col>thalach</th><th scope=col>exang</th><th scope=col>oldpeak</th><th scope=col>slope</th><th scope=col>ca</th><th scope=col>thal</th><th scope=col>num</th></tr>\n",
       "\t<tr><th scope=col>&lt;dbl&gt;</th><th scope=col>&lt;dbl&gt;</th><th scope=col>&lt;dbl&gt;</th><th scope=col>&lt;dbl&gt;</th><th scope=col>&lt;dbl&gt;</th><th scope=col>&lt;dbl&gt;</th><th scope=col>&lt;dbl&gt;</th><th scope=col>&lt;dbl&gt;</th><th scope=col>&lt;dbl&gt;</th><th scope=col>&lt;dbl&gt;</th><th scope=col>&lt;dbl&gt;</th><th scope=col>&lt;chr&gt;</th><th scope=col>&lt;chr&gt;</th><th scope=col>&lt;dbl&gt;</th></tr>\n",
       "</thead>\n",
       "<tbody>\n",
       "\t<tr><td>63</td><td>1</td><td>1</td><td>145</td><td>233</td><td>1</td><td>2</td><td>150</td><td>0</td><td>2.3</td><td>3</td><td>0.0</td><td>6.0</td><td>0</td></tr>\n",
       "\t<tr><td>67</td><td>1</td><td>4</td><td>160</td><td>286</td><td>0</td><td>2</td><td>108</td><td>1</td><td>1.5</td><td>2</td><td>3.0</td><td>3.0</td><td>2</td></tr>\n",
       "\t<tr><td>67</td><td>1</td><td>4</td><td>120</td><td>229</td><td>0</td><td>2</td><td>129</td><td>1</td><td>2.6</td><td>2</td><td>2.0</td><td>7.0</td><td>1</td></tr>\n",
       "\t<tr><td>37</td><td>1</td><td>3</td><td>130</td><td>250</td><td>0</td><td>0</td><td>187</td><td>0</td><td>3.5</td><td>3</td><td>0.0</td><td>3.0</td><td>0</td></tr>\n",
       "\t<tr><td>41</td><td>0</td><td>2</td><td>130</td><td>204</td><td>0</td><td>2</td><td>172</td><td>0</td><td>1.4</td><td>1</td><td>0.0</td><td>3.0</td><td>0</td></tr>\n",
       "\t<tr><td>56</td><td>1</td><td>2</td><td>120</td><td>236</td><td>0</td><td>0</td><td>178</td><td>0</td><td>0.8</td><td>1</td><td>0.0</td><td>3.0</td><td>0</td></tr>\n",
       "\t<tr><td>⋮</td><td>⋮</td><td>⋮</td><td>⋮</td><td>⋮</td><td>⋮</td><td>⋮</td><td>⋮</td><td>⋮</td><td>⋮</td><td>⋮</td><td>⋮</td><td>⋮</td><td>⋮</td></tr>\n",
       "\t<tr><td>57</td><td>0</td><td>4</td><td>140</td><td>241</td><td>0</td><td>0</td><td>123</td><td>1</td><td>0.2</td><td>2</td><td>0.0</td><td>7.0</td><td>1</td></tr>\n",
       "\t<tr><td>45</td><td>1</td><td>1</td><td>110</td><td>264</td><td>0</td><td>0</td><td>132</td><td>0</td><td>1.2</td><td>2</td><td>0.0</td><td>7.0</td><td>1</td></tr>\n",
       "\t<tr><td>68</td><td>1</td><td>4</td><td>144</td><td>193</td><td>1</td><td>0</td><td>141</td><td>0</td><td>3.4</td><td>2</td><td>2.0</td><td>7.0</td><td>2</td></tr>\n",
       "\t<tr><td>57</td><td>1</td><td>4</td><td>130</td><td>131</td><td>0</td><td>0</td><td>115</td><td>1</td><td>1.2</td><td>2</td><td>1.0</td><td>7.0</td><td>3</td></tr>\n",
       "\t<tr><td>57</td><td>0</td><td>2</td><td>130</td><td>236</td><td>0</td><td>2</td><td>174</td><td>0</td><td>0.0</td><td>2</td><td>1.0</td><td>3.0</td><td>1</td></tr>\n",
       "\t<tr><td>38</td><td>1</td><td>3</td><td>138</td><td>175</td><td>0</td><td>0</td><td>173</td><td>0</td><td>0.0</td><td>1</td><td>?  </td><td>3.0</td><td>0</td></tr>\n",
       "</tbody>\n",
       "</table>\n"
      ],
      "text/latex": [
       "A spec\\_tbl\\_df: 303 × 14\n",
       "\\begin{tabular}{llllllllllllll}\n",
       " age & sex & cp & trestbps & chol & fbs & restecg & thalach & exang & oldpeak & slope & ca & thal & num\\\\\n",
       " <dbl> & <dbl> & <dbl> & <dbl> & <dbl> & <dbl> & <dbl> & <dbl> & <dbl> & <dbl> & <dbl> & <chr> & <chr> & <dbl>\\\\\n",
       "\\hline\n",
       "\t 63 & 1 & 1 & 145 & 233 & 1 & 2 & 150 & 0 & 2.3 & 3 & 0.0 & 6.0 & 0\\\\\n",
       "\t 67 & 1 & 4 & 160 & 286 & 0 & 2 & 108 & 1 & 1.5 & 2 & 3.0 & 3.0 & 2\\\\\n",
       "\t 67 & 1 & 4 & 120 & 229 & 0 & 2 & 129 & 1 & 2.6 & 2 & 2.0 & 7.0 & 1\\\\\n",
       "\t 37 & 1 & 3 & 130 & 250 & 0 & 0 & 187 & 0 & 3.5 & 3 & 0.0 & 3.0 & 0\\\\\n",
       "\t 41 & 0 & 2 & 130 & 204 & 0 & 2 & 172 & 0 & 1.4 & 1 & 0.0 & 3.0 & 0\\\\\n",
       "\t 56 & 1 & 2 & 120 & 236 & 0 & 0 & 178 & 0 & 0.8 & 1 & 0.0 & 3.0 & 0\\\\\n",
       "\t ⋮ & ⋮ & ⋮ & ⋮ & ⋮ & ⋮ & ⋮ & ⋮ & ⋮ & ⋮ & ⋮ & ⋮ & ⋮ & ⋮\\\\\n",
       "\t 57 & 0 & 4 & 140 & 241 & 0 & 0 & 123 & 1 & 0.2 & 2 & 0.0 & 7.0 & 1\\\\\n",
       "\t 45 & 1 & 1 & 110 & 264 & 0 & 0 & 132 & 0 & 1.2 & 2 & 0.0 & 7.0 & 1\\\\\n",
       "\t 68 & 1 & 4 & 144 & 193 & 1 & 0 & 141 & 0 & 3.4 & 2 & 2.0 & 7.0 & 2\\\\\n",
       "\t 57 & 1 & 4 & 130 & 131 & 0 & 0 & 115 & 1 & 1.2 & 2 & 1.0 & 7.0 & 3\\\\\n",
       "\t 57 & 0 & 2 & 130 & 236 & 0 & 2 & 174 & 0 & 0.0 & 2 & 1.0 & 3.0 & 1\\\\\n",
       "\t 38 & 1 & 3 & 138 & 175 & 0 & 0 & 173 & 0 & 0.0 & 1 & ?   & 3.0 & 0\\\\\n",
       "\\end{tabular}\n"
      ],
      "text/markdown": [
       "\n",
       "A spec_tbl_df: 303 × 14\n",
       "\n",
       "| age &lt;dbl&gt; | sex &lt;dbl&gt; | cp &lt;dbl&gt; | trestbps &lt;dbl&gt; | chol &lt;dbl&gt; | fbs &lt;dbl&gt; | restecg &lt;dbl&gt; | thalach &lt;dbl&gt; | exang &lt;dbl&gt; | oldpeak &lt;dbl&gt; | slope &lt;dbl&gt; | ca &lt;chr&gt; | thal &lt;chr&gt; | num &lt;dbl&gt; |\n",
       "|---|---|---|---|---|---|---|---|---|---|---|---|---|---|\n",
       "| 63 | 1 | 1 | 145 | 233 | 1 | 2 | 150 | 0 | 2.3 | 3 | 0.0 | 6.0 | 0 |\n",
       "| 67 | 1 | 4 | 160 | 286 | 0 | 2 | 108 | 1 | 1.5 | 2 | 3.0 | 3.0 | 2 |\n",
       "| 67 | 1 | 4 | 120 | 229 | 0 | 2 | 129 | 1 | 2.6 | 2 | 2.0 | 7.0 | 1 |\n",
       "| 37 | 1 | 3 | 130 | 250 | 0 | 0 | 187 | 0 | 3.5 | 3 | 0.0 | 3.0 | 0 |\n",
       "| 41 | 0 | 2 | 130 | 204 | 0 | 2 | 172 | 0 | 1.4 | 1 | 0.0 | 3.0 | 0 |\n",
       "| 56 | 1 | 2 | 120 | 236 | 0 | 0 | 178 | 0 | 0.8 | 1 | 0.0 | 3.0 | 0 |\n",
       "| ⋮ | ⋮ | ⋮ | ⋮ | ⋮ | ⋮ | ⋮ | ⋮ | ⋮ | ⋮ | ⋮ | ⋮ | ⋮ | ⋮ |\n",
       "| 57 | 0 | 4 | 140 | 241 | 0 | 0 | 123 | 1 | 0.2 | 2 | 0.0 | 7.0 | 1 |\n",
       "| 45 | 1 | 1 | 110 | 264 | 0 | 0 | 132 | 0 | 1.2 | 2 | 0.0 | 7.0 | 1 |\n",
       "| 68 | 1 | 4 | 144 | 193 | 1 | 0 | 141 | 0 | 3.4 | 2 | 2.0 | 7.0 | 2 |\n",
       "| 57 | 1 | 4 | 130 | 131 | 0 | 0 | 115 | 1 | 1.2 | 2 | 1.0 | 7.0 | 3 |\n",
       "| 57 | 0 | 2 | 130 | 236 | 0 | 2 | 174 | 0 | 0.0 | 2 | 1.0 | 3.0 | 1 |\n",
       "| 38 | 1 | 3 | 138 | 175 | 0 | 0 | 173 | 0 | 0.0 | 1 | ?   | 3.0 | 0 |\n",
       "\n"
      ],
      "text/plain": [
       "    age sex cp trestbps chol fbs restecg thalach exang oldpeak slope ca  thal\n",
       "1   63  1   1  145      233  1   2       150     0     2.3     3     0.0 6.0 \n",
       "2   67  1   4  160      286  0   2       108     1     1.5     2     3.0 3.0 \n",
       "3   67  1   4  120      229  0   2       129     1     2.6     2     2.0 7.0 \n",
       "4   37  1   3  130      250  0   0       187     0     3.5     3     0.0 3.0 \n",
       "5   41  0   2  130      204  0   2       172     0     1.4     1     0.0 3.0 \n",
       "6   56  1   2  120      236  0   0       178     0     0.8     1     0.0 3.0 \n",
       "⋮   ⋮   ⋮   ⋮  ⋮        ⋮    ⋮   ⋮       ⋮       ⋮     ⋮       ⋮     ⋮   ⋮   \n",
       "298 57  0   4  140      241  0   0       123     1     0.2     2     0.0 7.0 \n",
       "299 45  1   1  110      264  0   0       132     0     1.2     2     0.0 7.0 \n",
       "300 68  1   4  144      193  1   0       141     0     3.4     2     2.0 7.0 \n",
       "301 57  1   4  130      131  0   0       115     1     1.2     2     1.0 7.0 \n",
       "302 57  0   2  130      236  0   2       174     0     0.0     2     1.0 3.0 \n",
       "303 38  1   3  138      175  0   0       173     0     0.0     1     ?   3.0 \n",
       "    num\n",
       "1   0  \n",
       "2   2  \n",
       "3   1  \n",
       "4   0  \n",
       "5   0  \n",
       "6   0  \n",
       "⋮   ⋮  \n",
       "298 1  \n",
       "299 1  \n",
       "300 2  \n",
       "301 3  \n",
       "302 1  \n",
       "303 0  "
      ]
     },
     "metadata": {},
     "output_type": "display_data"
    }
   ],
   "source": [
    "\n",
    "#download.file(\"https://archive.ics.uci.edu/ml/machine-learning-databases/heart-disease/processed.switzerland.data\",\n",
    "            #  destfile = \"./switzerland_data.data\")\n",
    "\n",
    "#read_csv(\"https://archive.ics.uci.edu/ml/machine-learning-databases/heart-disease/switzerland.data/processed.switzerland.data\")\n",
    "\n",
    "cleveland_data <- read_csv(\"data/processed.cleveland.data\", col_names = FALSE) |>\n",
    "    rename(age      = X1,      # Age in years\n",
    "           sex      = X2,      # Sex (1 = male, 0 = female)\n",
    "           cp       = X3,      # Chest pain type \n",
    "                               # - 1 : typical angina\n",
    "                               # - 2 : atypical angina\n",
    "                               # - 3 : non-anginal pain\n",
    "                               # - 4 : asymptomatic\n",
    "           trestbps = X4,      # Resting blood pressure (mmHg)\n",
    "           chol     = X5,      # Serum cholestoral (mg/dL)\n",
    "           fbs      = X6,      # Fasting blood sugar > 120 mg/dL (1 = true, 0 = false)\n",
    "           restecg  = X7,      # Resting electrocardiographic results \n",
    "                               # - 0 : normal,\n",
    "                               # - 1 : having ST-T wave abnormality (T wave inversions and/or ST \n",
    "                               #       elevation or depression of > 0.05 mV)\n",
    "                               # - 2 : showing probable or definite left ventricular hypertrophy by Estes' criteria\n",
    "           thalach  = X8,      # Maximum heart rate achieved\n",
    "           exang    = X9,      # Exercise induced angina (0 = no, 1 = yes)\n",
    "           oldpeak  = X10,     # ST depression induced by exercise relative to rest\n",
    "           slope    = X11,     # The slope of the peak exercise ST segment\n",
    "                               # - 1 : upsloping\n",
    "                               # - 2 : flat\n",
    "                               # - 3 : downsloping\n",
    "           ca       = X12,     # Number of major vessels (0-3) colored by flourosopy\n",
    "           thal     = X13,     # 3 = normal; 6 = fixed defect; 7 = reversable defect\n",
    "           num      = X14)     # diagnosis of heart disease (angiographic disease status)\n",
    "\n",
    "cleveland_data"
   ]
  },
  {
   "cell_type": "markdown",
   "id": "00316bf6-af0c-4a4d-9a76-5e1da4e82955",
   "metadata": {},
   "source": [
    "# Data wrangling"
   ]
  },
  {
   "cell_type": "code",
   "execution_count": 3,
   "id": "6cf75176-ce6b-445b-8a2f-c27b4b58fb21",
   "metadata": {},
   "outputs": [
    {
     "name": "stderr",
     "output_type": "stream",
     "text": [
      "Warning message in mask$eval_all_mutate(quo):\n",
      "“NAs introduced by coercion”\n"
     ]
    },
    {
     "data": {
      "text/html": [
       "<table class=\"dataframe\">\n",
       "<caption>A tibble: 303 × 14</caption>\n",
       "<thead>\n",
       "\t<tr><th scope=col>age</th><th scope=col>sex</th><th scope=col>cp</th><th scope=col>trestbps</th><th scope=col>chol</th><th scope=col>fbs</th><th scope=col>restecg</th><th scope=col>thalach</th><th scope=col>exang</th><th scope=col>oldpeak</th><th scope=col>slope</th><th scope=col>ca</th><th scope=col>thal</th><th scope=col>num</th></tr>\n",
       "\t<tr><th scope=col>&lt;int&gt;</th><th scope=col>&lt;fct&gt;</th><th scope=col>&lt;fct&gt;</th><th scope=col>&lt;int&gt;</th><th scope=col>&lt;int&gt;</th><th scope=col>&lt;fct&gt;</th><th scope=col>&lt;fct&gt;</th><th scope=col>&lt;int&gt;</th><th scope=col>&lt;fct&gt;</th><th scope=col>&lt;dbl&gt;</th><th scope=col>&lt;fct&gt;</th><th scope=col>&lt;int&gt;</th><th scope=col>&lt;fct&gt;</th><th scope=col>&lt;fct&gt;</th></tr>\n",
       "</thead>\n",
       "<tbody>\n",
       "\t<tr><td>63</td><td>1</td><td>1</td><td>145</td><td>233</td><td>1</td><td>2</td><td>150</td><td>0</td><td>2.3</td><td>3</td><td>0</td><td>6.0</td><td>0</td></tr>\n",
       "\t<tr><td>67</td><td>1</td><td>4</td><td>160</td><td>286</td><td>0</td><td>2</td><td>108</td><td>1</td><td>1.5</td><td>2</td><td>3</td><td>3.0</td><td>2</td></tr>\n",
       "\t<tr><td>67</td><td>1</td><td>4</td><td>120</td><td>229</td><td>0</td><td>2</td><td>129</td><td>1</td><td>2.6</td><td>2</td><td>2</td><td>7.0</td><td>1</td></tr>\n",
       "\t<tr><td>37</td><td>1</td><td>3</td><td>130</td><td>250</td><td>0</td><td>0</td><td>187</td><td>0</td><td>3.5</td><td>3</td><td>0</td><td>3.0</td><td>0</td></tr>\n",
       "\t<tr><td>41</td><td>0</td><td>2</td><td>130</td><td>204</td><td>0</td><td>2</td><td>172</td><td>0</td><td>1.4</td><td>1</td><td>0</td><td>3.0</td><td>0</td></tr>\n",
       "\t<tr><td>56</td><td>1</td><td>2</td><td>120</td><td>236</td><td>0</td><td>0</td><td>178</td><td>0</td><td>0.8</td><td>1</td><td>0</td><td>3.0</td><td>0</td></tr>\n",
       "\t<tr><td>⋮</td><td>⋮</td><td>⋮</td><td>⋮</td><td>⋮</td><td>⋮</td><td>⋮</td><td>⋮</td><td>⋮</td><td>⋮</td><td>⋮</td><td>⋮</td><td>⋮</td><td>⋮</td></tr>\n",
       "\t<tr><td>57</td><td>0</td><td>4</td><td>140</td><td>241</td><td>0</td><td>0</td><td>123</td><td>1</td><td>0.2</td><td>2</td><td> 0</td><td>7.0</td><td>1</td></tr>\n",
       "\t<tr><td>45</td><td>1</td><td>1</td><td>110</td><td>264</td><td>0</td><td>0</td><td>132</td><td>0</td><td>1.2</td><td>2</td><td> 0</td><td>7.0</td><td>1</td></tr>\n",
       "\t<tr><td>68</td><td>1</td><td>4</td><td>144</td><td>193</td><td>1</td><td>0</td><td>141</td><td>0</td><td>3.4</td><td>2</td><td> 2</td><td>7.0</td><td>2</td></tr>\n",
       "\t<tr><td>57</td><td>1</td><td>4</td><td>130</td><td>131</td><td>0</td><td>0</td><td>115</td><td>1</td><td>1.2</td><td>2</td><td> 1</td><td>7.0</td><td>3</td></tr>\n",
       "\t<tr><td>57</td><td>0</td><td>2</td><td>130</td><td>236</td><td>0</td><td>2</td><td>174</td><td>0</td><td>0.0</td><td>2</td><td> 1</td><td>3.0</td><td>1</td></tr>\n",
       "\t<tr><td>38</td><td>1</td><td>3</td><td>138</td><td>175</td><td>0</td><td>0</td><td>173</td><td>0</td><td>0.0</td><td>1</td><td>NA</td><td>3.0</td><td>0</td></tr>\n",
       "</tbody>\n",
       "</table>\n"
      ],
      "text/latex": [
       "A tibble: 303 × 14\n",
       "\\begin{tabular}{llllllllllllll}\n",
       " age & sex & cp & trestbps & chol & fbs & restecg & thalach & exang & oldpeak & slope & ca & thal & num\\\\\n",
       " <int> & <fct> & <fct> & <int> & <int> & <fct> & <fct> & <int> & <fct> & <dbl> & <fct> & <int> & <fct> & <fct>\\\\\n",
       "\\hline\n",
       "\t 63 & 1 & 1 & 145 & 233 & 1 & 2 & 150 & 0 & 2.3 & 3 & 0 & 6.0 & 0\\\\\n",
       "\t 67 & 1 & 4 & 160 & 286 & 0 & 2 & 108 & 1 & 1.5 & 2 & 3 & 3.0 & 2\\\\\n",
       "\t 67 & 1 & 4 & 120 & 229 & 0 & 2 & 129 & 1 & 2.6 & 2 & 2 & 7.0 & 1\\\\\n",
       "\t 37 & 1 & 3 & 130 & 250 & 0 & 0 & 187 & 0 & 3.5 & 3 & 0 & 3.0 & 0\\\\\n",
       "\t 41 & 0 & 2 & 130 & 204 & 0 & 2 & 172 & 0 & 1.4 & 1 & 0 & 3.0 & 0\\\\\n",
       "\t 56 & 1 & 2 & 120 & 236 & 0 & 0 & 178 & 0 & 0.8 & 1 & 0 & 3.0 & 0\\\\\n",
       "\t ⋮ & ⋮ & ⋮ & ⋮ & ⋮ & ⋮ & ⋮ & ⋮ & ⋮ & ⋮ & ⋮ & ⋮ & ⋮ & ⋮\\\\\n",
       "\t 57 & 0 & 4 & 140 & 241 & 0 & 0 & 123 & 1 & 0.2 & 2 &  0 & 7.0 & 1\\\\\n",
       "\t 45 & 1 & 1 & 110 & 264 & 0 & 0 & 132 & 0 & 1.2 & 2 &  0 & 7.0 & 1\\\\\n",
       "\t 68 & 1 & 4 & 144 & 193 & 1 & 0 & 141 & 0 & 3.4 & 2 &  2 & 7.0 & 2\\\\\n",
       "\t 57 & 1 & 4 & 130 & 131 & 0 & 0 & 115 & 1 & 1.2 & 2 &  1 & 7.0 & 3\\\\\n",
       "\t 57 & 0 & 2 & 130 & 236 & 0 & 2 & 174 & 0 & 0.0 & 2 &  1 & 3.0 & 1\\\\\n",
       "\t 38 & 1 & 3 & 138 & 175 & 0 & 0 & 173 & 0 & 0.0 & 1 & NA & 3.0 & 0\\\\\n",
       "\\end{tabular}\n"
      ],
      "text/markdown": [
       "\n",
       "A tibble: 303 × 14\n",
       "\n",
       "| age &lt;int&gt; | sex &lt;fct&gt; | cp &lt;fct&gt; | trestbps &lt;int&gt; | chol &lt;int&gt; | fbs &lt;fct&gt; | restecg &lt;fct&gt; | thalach &lt;int&gt; | exang &lt;fct&gt; | oldpeak &lt;dbl&gt; | slope &lt;fct&gt; | ca &lt;int&gt; | thal &lt;fct&gt; | num &lt;fct&gt; |\n",
       "|---|---|---|---|---|---|---|---|---|---|---|---|---|---|\n",
       "| 63 | 1 | 1 | 145 | 233 | 1 | 2 | 150 | 0 | 2.3 | 3 | 0 | 6.0 | 0 |\n",
       "| 67 | 1 | 4 | 160 | 286 | 0 | 2 | 108 | 1 | 1.5 | 2 | 3 | 3.0 | 2 |\n",
       "| 67 | 1 | 4 | 120 | 229 | 0 | 2 | 129 | 1 | 2.6 | 2 | 2 | 7.0 | 1 |\n",
       "| 37 | 1 | 3 | 130 | 250 | 0 | 0 | 187 | 0 | 3.5 | 3 | 0 | 3.0 | 0 |\n",
       "| 41 | 0 | 2 | 130 | 204 | 0 | 2 | 172 | 0 | 1.4 | 1 | 0 | 3.0 | 0 |\n",
       "| 56 | 1 | 2 | 120 | 236 | 0 | 0 | 178 | 0 | 0.8 | 1 | 0 | 3.0 | 0 |\n",
       "| ⋮ | ⋮ | ⋮ | ⋮ | ⋮ | ⋮ | ⋮ | ⋮ | ⋮ | ⋮ | ⋮ | ⋮ | ⋮ | ⋮ |\n",
       "| 57 | 0 | 4 | 140 | 241 | 0 | 0 | 123 | 1 | 0.2 | 2 |  0 | 7.0 | 1 |\n",
       "| 45 | 1 | 1 | 110 | 264 | 0 | 0 | 132 | 0 | 1.2 | 2 |  0 | 7.0 | 1 |\n",
       "| 68 | 1 | 4 | 144 | 193 | 1 | 0 | 141 | 0 | 3.4 | 2 |  2 | 7.0 | 2 |\n",
       "| 57 | 1 | 4 | 130 | 131 | 0 | 0 | 115 | 1 | 1.2 | 2 |  1 | 7.0 | 3 |\n",
       "| 57 | 0 | 2 | 130 | 236 | 0 | 2 | 174 | 0 | 0.0 | 2 |  1 | 3.0 | 1 |\n",
       "| 38 | 1 | 3 | 138 | 175 | 0 | 0 | 173 | 0 | 0.0 | 1 | NA | 3.0 | 0 |\n",
       "\n"
      ],
      "text/plain": [
       "    age sex cp trestbps chol fbs restecg thalach exang oldpeak slope ca thal\n",
       "1   63  1   1  145      233  1   2       150     0     2.3     3     0  6.0 \n",
       "2   67  1   4  160      286  0   2       108     1     1.5     2     3  3.0 \n",
       "3   67  1   4  120      229  0   2       129     1     2.6     2     2  7.0 \n",
       "4   37  1   3  130      250  0   0       187     0     3.5     3     0  3.0 \n",
       "5   41  0   2  130      204  0   2       172     0     1.4     1     0  3.0 \n",
       "6   56  1   2  120      236  0   0       178     0     0.8     1     0  3.0 \n",
       "⋮   ⋮   ⋮   ⋮  ⋮        ⋮    ⋮   ⋮       ⋮       ⋮     ⋮       ⋮     ⋮  ⋮   \n",
       "298 57  0   4  140      241  0   0       123     1     0.2     2      0 7.0 \n",
       "299 45  1   1  110      264  0   0       132     0     1.2     2      0 7.0 \n",
       "300 68  1   4  144      193  1   0       141     0     3.4     2      2 7.0 \n",
       "301 57  1   4  130      131  0   0       115     1     1.2     2      1 7.0 \n",
       "302 57  0   2  130      236  0   2       174     0     0.0     2      1 3.0 \n",
       "303 38  1   3  138      175  0   0       173     0     0.0     1     NA 3.0 \n",
       "    num\n",
       "1   0  \n",
       "2   2  \n",
       "3   1  \n",
       "4   0  \n",
       "5   0  \n",
       "6   0  \n",
       "⋮   ⋮  \n",
       "298 1  \n",
       "299 1  \n",
       "300 2  \n",
       "301 3  \n",
       "302 1  \n",
       "303 0  "
      ]
     },
     "metadata": {},
     "output_type": "display_data"
    }
   ],
   "source": [
    "cleveland_data <- cleveland_data |>\n",
    "    mutate(age      = as.integer(age),\n",
    "           sex      = as.factor(sex),\n",
    "           cp       = as.factor(cp),\n",
    "           trestbps = as.integer(trestbps),\n",
    "           chol     = as.integer(chol),\n",
    "           fbs      = as.factor(fbs),\n",
    "           restecg  = as.factor(restecg),\n",
    "           thalach  = as.integer(thalach),\n",
    "           exang    = as.factor(exang),\n",
    "           oldpeak  = as.double(oldpeak),\n",
    "           slope    = as.factor(slope),\n",
    "           ca       = as.integer(ca),\n",
    "           thal     = as.factor(thal),\n",
    "           num      = as.factor(num))\n",
    "\n",
    "cleveland_data"
   ]
  },
  {
   "cell_type": "code",
   "execution_count": 4,
   "id": "1cff970d-b093-4d0a-bb42-5de57eaa36b4",
   "metadata": {},
   "outputs": [],
   "source": [
    "# Splitting the data into training and testing sets\n",
    "cleveland_split <- initial_split(cleveland_data, prop = 0.75, strata = num)\n",
    "cleveland_training <- training(cleveland_split) \n",
    "cleveland_testing <- testing(cleveland_split)"
   ]
  },
  {
   "cell_type": "markdown",
   "id": "4267e6cc-6f23-49e9-bc60-20c04a69453e",
   "metadata": {},
   "source": [
    "# Exploratory data analysis"
   ]
  },
  {
   "cell_type": "markdown",
   "id": "4ff8a220-7a35-41eb-88d7-393df4feee58",
   "metadata": {},
   "source": [
    "### Heart Disease Summary"
   ]
  },
  {
   "cell_type": "code",
   "execution_count": 5,
   "id": "107778d3-7283-49ba-bec4-dcd15dd77bcb",
   "metadata": {},
   "outputs": [
    {
     "data": {
      "text/html": [
       "<table class=\"dataframe\">\n",
       "<caption>A tibble: 5 × 2</caption>\n",
       "<thead>\n",
       "\t<tr><th scope=col>num</th><th scope=col>count</th></tr>\n",
       "\t<tr><th scope=col>&lt;fct&gt;</th><th scope=col>&lt;int&gt;</th></tr>\n",
       "</thead>\n",
       "<tbody>\n",
       "\t<tr><td>0</td><td>123</td></tr>\n",
       "\t<tr><td>1</td><td> 42</td></tr>\n",
       "\t<tr><td>2</td><td> 26</td></tr>\n",
       "\t<tr><td>3</td><td> 27</td></tr>\n",
       "\t<tr><td>4</td><td>  8</td></tr>\n",
       "</tbody>\n",
       "</table>\n"
      ],
      "text/latex": [
       "A tibble: 5 × 2\n",
       "\\begin{tabular}{ll}\n",
       " num & count\\\\\n",
       " <fct> & <int>\\\\\n",
       "\\hline\n",
       "\t 0 & 123\\\\\n",
       "\t 1 &  42\\\\\n",
       "\t 2 &  26\\\\\n",
       "\t 3 &  27\\\\\n",
       "\t 4 &   8\\\\\n",
       "\\end{tabular}\n"
      ],
      "text/markdown": [
       "\n",
       "A tibble: 5 × 2\n",
       "\n",
       "| num &lt;fct&gt; | count &lt;int&gt; |\n",
       "|---|---|\n",
       "| 0 | 123 |\n",
       "| 1 |  42 |\n",
       "| 2 |  26 |\n",
       "| 3 |  27 |\n",
       "| 4 |   8 |\n",
       "\n"
      ],
      "text/plain": [
       "  num count\n",
       "1 0   123  \n",
       "2 1    42  \n",
       "3 2    26  \n",
       "4 3    27  \n",
       "5 4     8  "
      ]
     },
     "metadata": {},
     "output_type": "display_data"
    }
   ],
   "source": [
    "target_summary <- cleveland_training |>\n",
    "    group_by(num) |>\n",
    "    summarize(count = n())\n",
    "target_summary"
   ]
  },
  {
   "cell_type": "markdown",
   "id": "3fd76311-6c9a-4a8e-a484-62fa109752d8",
   "metadata": {},
   "source": [
    "From the dataset, the majority of patients do not have any presence of heart disease. For those who have presence of a heart disease, most have **Type 1** whereas **Type 4** is the least common."
   ]
  },
  {
   "cell_type": "markdown",
   "id": "abd8c0fe-ddf6-460d-966c-97d5310d8248",
   "metadata": {},
   "source": [
    "### Demographics"
   ]
  },
  {
   "cell_type": "code",
   "execution_count": 6,
   "id": "795a0162-0c4e-4d19-b222-355f2ff628af",
   "metadata": {},
   "outputs": [
    {
     "data": {
      "text/html": [
       "<table class=\"dataframe\">\n",
       "<caption>A tibble: 2 × 3</caption>\n",
       "<thead>\n",
       "\t<tr><th scope=col>sex</th><th scope=col>count</th><th scope=col>average_age</th></tr>\n",
       "\t<tr><th scope=col>&lt;fct&gt;</th><th scope=col>&lt;int&gt;</th><th scope=col>&lt;dbl&gt;</th></tr>\n",
       "</thead>\n",
       "<tbody>\n",
       "\t<tr><td>0</td><td> 73</td><td>56.06849</td></tr>\n",
       "\t<tr><td>1</td><td>153</td><td>53.66667</td></tr>\n",
       "</tbody>\n",
       "</table>\n"
      ],
      "text/latex": [
       "A tibble: 2 × 3\n",
       "\\begin{tabular}{lll}\n",
       " sex & count & average\\_age\\\\\n",
       " <fct> & <int> & <dbl>\\\\\n",
       "\\hline\n",
       "\t 0 &  73 & 56.06849\\\\\n",
       "\t 1 & 153 & 53.66667\\\\\n",
       "\\end{tabular}\n"
      ],
      "text/markdown": [
       "\n",
       "A tibble: 2 × 3\n",
       "\n",
       "| sex &lt;fct&gt; | count &lt;int&gt; | average_age &lt;dbl&gt; |\n",
       "|---|---|---|\n",
       "| 0 |  73 | 56.06849 |\n",
       "| 1 | 153 | 53.66667 |\n",
       "\n"
      ],
      "text/plain": [
       "  sex count average_age\n",
       "1 0    73   56.06849   \n",
       "2 1   153   53.66667   "
      ]
     },
     "metadata": {},
     "output_type": "display_data"
    }
   ],
   "source": [
    "demographic_summary <- cleveland_training |>\n",
    "    group_by(sex) |>\n",
    "    summarize(count = n(), average_age = mean(age))\n",
    "demographic_summary"
   ]
  },
  {
   "cell_type": "markdown",
   "id": "25768158-fe03-44bb-8392-224975be01bb",
   "metadata": {},
   "source": [
    "The number of male double that of female participants. The average age for this dataset is around 54 years old. In addition, the average age of the male is slightly younger than female participants."
   ]
  },
  {
   "cell_type": "markdown",
   "id": "d4eb2e40-cedf-4586-8b40-d28747fbb404",
   "metadata": {},
   "source": [
    "### Blood Pressure"
   ]
  },
  {
   "cell_type": "code",
   "execution_count": 7,
   "id": "a21f0f8d-d1fb-44a0-ab44-3f1902cc5378",
   "metadata": {},
   "outputs": [
    {
     "data": {
      "text/html": [
       "<table class=\"dataframe\">\n",
       "<caption>A tibble: 1 × 1</caption>\n",
       "<thead>\n",
       "\t<tr><th scope=col>average_restbps</th></tr>\n",
       "\t<tr><th scope=col>&lt;dbl&gt;</th></tr>\n",
       "</thead>\n",
       "<tbody>\n",
       "\t<tr><td>132.3319</td></tr>\n",
       "</tbody>\n",
       "</table>\n"
      ],
      "text/latex": [
       "A tibble: 1 × 1\n",
       "\\begin{tabular}{l}\n",
       " average\\_restbps\\\\\n",
       " <dbl>\\\\\n",
       "\\hline\n",
       "\t 132.3319\\\\\n",
       "\\end{tabular}\n"
      ],
      "text/markdown": [
       "\n",
       "A tibble: 1 × 1\n",
       "\n",
       "| average_restbps &lt;dbl&gt; |\n",
       "|---|\n",
       "| 132.3319 |\n",
       "\n"
      ],
      "text/plain": [
       "  average_restbps\n",
       "1 132.3319       "
      ]
     },
     "metadata": {},
     "output_type": "display_data"
    }
   ],
   "source": [
    "average_restbps <- cleveland_training |>\n",
    "    summarize(average_restbps = mean(trestbps))\n",
    "average_restbps"
   ]
  },
  {
   "cell_type": "markdown",
   "id": "b50e559b-aea1-4d12-b338-03de048545af",
   "metadata": {},
   "source": [
    "The average resting blood pressure of all participants is 132*mmHg*. Let's see how this would affect the type of heart disease."
   ]
  },
  {
   "cell_type": "code",
   "execution_count": 8,
   "id": "0f82e629-2a36-4dd1-a7b3-f75679bdd85c",
   "metadata": {},
   "outputs": [
    {
     "data": {
      "text/html": [
       "<table class=\"dataframe\">\n",
       "<caption>A tibble: 5 × 2</caption>\n",
       "<thead>\n",
       "\t<tr><th scope=col>num</th><th scope=col>average_restbps</th></tr>\n",
       "\t<tr><th scope=col>&lt;fct&gt;</th><th scope=col>&lt;dbl&gt;</th></tr>\n",
       "</thead>\n",
       "<tbody>\n",
       "\t<tr><td>0</td><td>128.8293</td></tr>\n",
       "\t<tr><td>1</td><td>135.7143</td></tr>\n",
       "\t<tr><td>2</td><td>136.2692</td></tr>\n",
       "\t<tr><td>3</td><td>136.5926</td></tr>\n",
       "\t<tr><td>4</td><td>141.2500</td></tr>\n",
       "</tbody>\n",
       "</table>\n"
      ],
      "text/latex": [
       "A tibble: 5 × 2\n",
       "\\begin{tabular}{ll}\n",
       " num & average\\_restbps\\\\\n",
       " <fct> & <dbl>\\\\\n",
       "\\hline\n",
       "\t 0 & 128.8293\\\\\n",
       "\t 1 & 135.7143\\\\\n",
       "\t 2 & 136.2692\\\\\n",
       "\t 3 & 136.5926\\\\\n",
       "\t 4 & 141.2500\\\\\n",
       "\\end{tabular}\n"
      ],
      "text/markdown": [
       "\n",
       "A tibble: 5 × 2\n",
       "\n",
       "| num &lt;fct&gt; | average_restbps &lt;dbl&gt; |\n",
       "|---|---|\n",
       "| 0 | 128.8293 |\n",
       "| 1 | 135.7143 |\n",
       "| 2 | 136.2692 |\n",
       "| 3 | 136.5926 |\n",
       "| 4 | 141.2500 |\n",
       "\n"
      ],
      "text/plain": [
       "  num average_restbps\n",
       "1 0   128.8293       \n",
       "2 1   135.7143       \n",
       "3 2   136.2692       \n",
       "4 3   136.5926       \n",
       "5 4   141.2500       "
      ]
     },
     "metadata": {},
     "output_type": "display_data"
    }
   ],
   "source": [
    "average_restbps_by_type <- cleveland_training |>\n",
    "    group_by(num) |>\n",
    "    summarize(average_restbps = mean(trestbps))\n",
    "average_restbps_by_type"
   ]
  },
  {
   "cell_type": "markdown",
   "id": "fdacef93-5873-4bcb-86b3-27aad81acffb",
   "metadata": {},
   "source": [
    "People with no presence of heart disease have lower average resting blood pressure. Those who do tend to have increasingly higher resting blood pressure with worse cases of heart disease."
   ]
  },
  {
   "cell_type": "markdown",
   "id": "0d6468fe-4f91-4e65-b9d6-9f8c9959c9ca",
   "metadata": {},
   "source": [
    "### Serum Cholestoral"
   ]
  },
  {
   "cell_type": "code",
   "execution_count": 11,
   "id": "cf07236e-26e4-489c-ac22-9c97e60754c0",
   "metadata": {},
   "outputs": [
    {
     "data": {
      "text/html": [
       "<table class=\"dataframe\">\n",
       "<caption>A tibble: 1 × 1</caption>\n",
       "<thead>\n",
       "\t<tr><th scope=col>average_chol</th></tr>\n",
       "\t<tr><th scope=col>&lt;dbl&gt;</th></tr>\n",
       "</thead>\n",
       "<tbody>\n",
       "\t<tr><td>248.5</td></tr>\n",
       "</tbody>\n",
       "</table>\n"
      ],
      "text/latex": [
       "A tibble: 1 × 1\n",
       "\\begin{tabular}{l}\n",
       " average\\_chol\\\\\n",
       " <dbl>\\\\\n",
       "\\hline\n",
       "\t 248.5\\\\\n",
       "\\end{tabular}\n"
      ],
      "text/markdown": [
       "\n",
       "A tibble: 1 × 1\n",
       "\n",
       "| average_chol &lt;dbl&gt; |\n",
       "|---|\n",
       "| 248.5 |\n",
       "\n"
      ],
      "text/plain": [
       "  average_chol\n",
       "1 248.5       "
      ]
     },
     "metadata": {},
     "output_type": "display_data"
    }
   ],
   "source": [
    "average_chol <- cleveland_training |>\n",
    "    summarize(average_chol = mean(chol))\n",
    "average_chol"
   ]
  },
  {
   "cell_type": "markdown",
   "id": "1ee7154d-4e0b-477b-a500-ffbec7134cac",
   "metadata": {},
   "source": [
    "The average serum cholestoral in the data set is 248.5*mg/dL*. Let's see what's the average for each type of heart disease."
   ]
  },
  {
   "cell_type": "code",
   "execution_count": 12,
   "id": "b39fd018-fe7a-4579-bc57-f8a64803d9f7",
   "metadata": {},
   "outputs": [
    {
     "data": {
      "text/html": [
       "<table class=\"dataframe\">\n",
       "<caption>A tibble: 5 × 2</caption>\n",
       "<thead>\n",
       "\t<tr><th scope=col>num</th><th scope=col>average_chol</th></tr>\n",
       "\t<tr><th scope=col>&lt;fct&gt;</th><th scope=col>&lt;dbl&gt;</th></tr>\n",
       "</thead>\n",
       "<tbody>\n",
       "\t<tr><td>0</td><td>247.1220</td></tr>\n",
       "\t<tr><td>1</td><td>249.5952</td></tr>\n",
       "\t<tr><td>2</td><td>255.7692</td></tr>\n",
       "\t<tr><td>3</td><td>248.3333</td></tr>\n",
       "\t<tr><td>4</td><td>240.8750</td></tr>\n",
       "</tbody>\n",
       "</table>\n"
      ],
      "text/latex": [
       "A tibble: 5 × 2\n",
       "\\begin{tabular}{ll}\n",
       " num & average\\_chol\\\\\n",
       " <fct> & <dbl>\\\\\n",
       "\\hline\n",
       "\t 0 & 247.1220\\\\\n",
       "\t 1 & 249.5952\\\\\n",
       "\t 2 & 255.7692\\\\\n",
       "\t 3 & 248.3333\\\\\n",
       "\t 4 & 240.8750\\\\\n",
       "\\end{tabular}\n"
      ],
      "text/markdown": [
       "\n",
       "A tibble: 5 × 2\n",
       "\n",
       "| num &lt;fct&gt; | average_chol &lt;dbl&gt; |\n",
       "|---|---|\n",
       "| 0 | 247.1220 |\n",
       "| 1 | 249.5952 |\n",
       "| 2 | 255.7692 |\n",
       "| 3 | 248.3333 |\n",
       "| 4 | 240.8750 |\n",
       "\n"
      ],
      "text/plain": [
       "  num average_chol\n",
       "1 0   247.1220    \n",
       "2 1   249.5952    \n",
       "3 2   255.7692    \n",
       "4 3   248.3333    \n",
       "5 4   240.8750    "
      ]
     },
     "metadata": {},
     "output_type": "display_data"
    }
   ],
   "source": [
    "average_chol_by_type <- cleveland_training |>\n",
    "    group_by(num) |>\n",
    "    summarize(average_chol = mean(chol))\n",
    "average_chol_by_type"
   ]
  },
  {
   "cell_type": "markdown",
   "id": "2f3fa8ea-bab9-413b-805a-a4a815b97a9c",
   "metadata": {},
   "source": [
    "Patients with Type 2 heart disease have higher than average serum cholestoral whereas Type 4 tend to have less than average."
   ]
  },
  {
   "cell_type": "markdown",
   "id": "e9d0cedd-3f55-446f-af71-0c181abe0834",
   "metadata": {},
   "source": [
    "### Fasting Blood Sugar"
   ]
  },
  {
   "cell_type": "code",
   "execution_count": 40,
   "id": "1ba54d79-5fd7-4e8e-a5ab-350a84dfa0a8",
   "metadata": {},
   "outputs": [
    {
     "name": "stderr",
     "output_type": "stream",
     "text": [
      "\u001b[1m\u001b[22m`summarise()` has grouped output by 'num'. You can override using the `.groups`\n",
      "argument.\n"
     ]
    },
    {
     "data": {
      "text/html": [
       "<table class=\"dataframe\">\n",
       "<caption>A grouped_df: 5 × 2</caption>\n",
       "<thead>\n",
       "\t<tr><th scope=col>num</th><th scope=col>lower_than_proportion</th></tr>\n",
       "\t<tr><th scope=col>&lt;fct&gt;</th><th scope=col>&lt;dbl&gt;</th></tr>\n",
       "</thead>\n",
       "<tbody>\n",
       "\t<tr><td>0</td><td>0.8699187</td></tr>\n",
       "\t<tr><td>1</td><td>0.9047619</td></tr>\n",
       "\t<tr><td>2</td><td>0.8076923</td></tr>\n",
       "\t<tr><td>3</td><td>0.7777778</td></tr>\n",
       "\t<tr><td>4</td><td>1.0000000</td></tr>\n",
       "</tbody>\n",
       "</table>\n"
      ],
      "text/latex": [
       "A grouped\\_df: 5 × 2\n",
       "\\begin{tabular}{ll}\n",
       " num & lower\\_than\\_proportion\\\\\n",
       " <fct> & <dbl>\\\\\n",
       "\\hline\n",
       "\t 0 & 0.8699187\\\\\n",
       "\t 1 & 0.9047619\\\\\n",
       "\t 2 & 0.8076923\\\\\n",
       "\t 3 & 0.7777778\\\\\n",
       "\t 4 & 1.0000000\\\\\n",
       "\\end{tabular}\n"
      ],
      "text/markdown": [
       "\n",
       "A grouped_df: 5 × 2\n",
       "\n",
       "| num &lt;fct&gt; | lower_than_proportion &lt;dbl&gt; |\n",
       "|---|---|\n",
       "| 0 | 0.8699187 |\n",
       "| 1 | 0.9047619 |\n",
       "| 2 | 0.8076923 |\n",
       "| 3 | 0.7777778 |\n",
       "| 4 | 1.0000000 |\n",
       "\n"
      ],
      "text/plain": [
       "  num lower_than_proportion\n",
       "1 0   0.8699187            \n",
       "2 1   0.9047619            \n",
       "3 2   0.8076923            \n",
       "4 3   0.7777778            \n",
       "5 4   1.0000000            "
      ]
     },
     "metadata": {},
     "output_type": "display_data"
    }
   ],
   "source": [
    "#pull the number of instances of each type of heart disease\n",
    "disease_count <- c(123, 42, 26, 27, 8)\n",
    "\n",
    "fbs_summary <- cleveland_training |>\n",
    "    group_by(num, fbs) |>\n",
    "    summarize(count = n()) |>\n",
    "    filter(fbs == 0) |> \n",
    "    bind_cols(type_count = disease_count) |>\n",
    "    mutate(lower_than_proportion = count / type_count) |>\n",
    "    select(num, lower_than_proportion)\n",
    "fbs_summary"
   ]
  },
  {
   "cell_type": "markdown",
   "id": "e765b7da-71fb-4754-9b44-ef9da9af19c6",
   "metadata": {},
   "source": [
    "### Resting electrocardiographic"
   ]
  },
  {
   "cell_type": "code",
   "execution_count": null,
   "id": "f813954e-404a-48c9-8e2a-891424f678c8",
   "metadata": {},
   "outputs": [
    {
     "name": "stderr",
     "output_type": "stream",
     "text": [
      "\u001b[1m\u001b[22m`summarise()` has grouped output by 'num'. You can override using the `.groups`\n",
      "argument.\n"
     ]
    },
    {
     "data": {
      "text/html": [
       "<table class=\"dataframe\">\n",
       "<caption>A grouped_df: 5 × 2</caption>\n",
       "<thead>\n",
       "\t<tr><th scope=col>num</th><th scope=col>normal_proportion</th></tr>\n",
       "\t<tr><th scope=col>&lt;fct&gt;</th><th scope=col>&lt;dbl&gt;</th></tr>\n",
       "</thead>\n",
       "<tbody>\n",
       "\t<tr><td>0</td><td>0.5934959</td></tr>\n",
       "\t<tr><td>1</td><td>0.4285714</td></tr>\n",
       "\t<tr><td>2</td><td>0.5384615</td></tr>\n",
       "\t<tr><td>3</td><td>0.3703704</td></tr>\n",
       "\t<tr><td>4</td><td>0.1250000</td></tr>\n",
       "</tbody>\n",
       "</table>\n"
      ],
      "text/latex": [
       "A grouped\\_df: 5 × 2\n",
       "\\begin{tabular}{ll}\n",
       " num & normal\\_proportion\\\\\n",
       " <fct> & <dbl>\\\\\n",
       "\\hline\n",
       "\t 0 & 0.5934959\\\\\n",
       "\t 1 & 0.4285714\\\\\n",
       "\t 2 & 0.5384615\\\\\n",
       "\t 3 & 0.3703704\\\\\n",
       "\t 4 & 0.1250000\\\\\n",
       "\\end{tabular}\n"
      ],
      "text/markdown": [
       "\n",
       "A grouped_df: 5 × 2\n",
       "\n",
       "| num &lt;fct&gt; | normal_proportion &lt;dbl&gt; |\n",
       "|---|---|\n",
       "| 0 | 0.5934959 |\n",
       "| 1 | 0.4285714 |\n",
       "| 2 | 0.5384615 |\n",
       "| 3 | 0.3703704 |\n",
       "| 4 | 0.1250000 |\n",
       "\n"
      ],
      "text/plain": [
       "  num normal_proportion\n",
       "1 0   0.5934959        \n",
       "2 1   0.4285714        \n",
       "3 2   0.5384615        \n",
       "4 3   0.3703704        \n",
       "5 4   0.1250000        "
      ]
     },
     "metadata": {},
     "output_type": "display_data"
    }
   ],
   "source": [
    "restecg_summary <- cleveland_training |>\n",
    "    group_by(num, restecg) |>\n",
    "    summarize(count = n()) |>\n",
    "    filter(restecg == 0) |> \n",
    "    bind_cols(type_count = disease_count) |>\n",
    "    mutate(normal_proportion = count / type_count) |>\n",
    "    select(num, normal_proportion)\n",
    "restecg_summary"
   ]
  },
  {
   "cell_type": "markdown",
   "id": "1e3d3b2d-3d31-4934-9353-c2d37ae06b94",
   "metadata": {},
   "source": [
    "### Maximum Heart Rate"
   ]
  },
  {
   "cell_type": "code",
   "execution_count": 63,
   "id": "0ae90ff3-dcb5-46d8-a81f-dde1662b3131",
   "metadata": {},
   "outputs": [
    {
     "data": {
      "text/html": [
       "<table class=\"dataframe\">\n",
       "<caption>A tibble: 1 × 1</caption>\n",
       "<thead>\n",
       "\t<tr><th scope=col>average_thalach</th></tr>\n",
       "\t<tr><th scope=col>&lt;dbl&gt;</th></tr>\n",
       "</thead>\n",
       "<tbody>\n",
       "\t<tr><td>149.4867</td></tr>\n",
       "</tbody>\n",
       "</table>\n"
      ],
      "text/latex": [
       "A tibble: 1 × 1\n",
       "\\begin{tabular}{l}\n",
       " average\\_thalach\\\\\n",
       " <dbl>\\\\\n",
       "\\hline\n",
       "\t 149.4867\\\\\n",
       "\\end{tabular}\n"
      ],
      "text/markdown": [
       "\n",
       "A tibble: 1 × 1\n",
       "\n",
       "| average_thalach &lt;dbl&gt; |\n",
       "|---|\n",
       "| 149.4867 |\n",
       "\n"
      ],
      "text/plain": [
       "  average_thalach\n",
       "1 149.4867       "
      ]
     },
     "metadata": {},
     "output_type": "display_data"
    }
   ],
   "source": [
    "average_thalach <- cleveland_training |>\n",
    "    summarize(average_thalach = mean(thalach))\n",
    "average_thalach"
   ]
  },
  {
   "cell_type": "code",
   "execution_count": 64,
   "id": "1200b4c5-49d1-4be9-985e-f685c03bca18",
   "metadata": {},
   "outputs": [
    {
     "data": {
      "text/html": [
       "<table class=\"dataframe\">\n",
       "<caption>A tibble: 5 × 2</caption>\n",
       "<thead>\n",
       "\t<tr><th scope=col>num</th><th scope=col>average_thalach</th></tr>\n",
       "\t<tr><th scope=col>&lt;fct&gt;</th><th scope=col>&lt;dbl&gt;</th></tr>\n",
       "</thead>\n",
       "<tbody>\n",
       "\t<tr><td>0</td><td>158.4309</td></tr>\n",
       "\t<tr><td>1</td><td>147.9762</td></tr>\n",
       "\t<tr><td>2</td><td>131.9231</td></tr>\n",
       "\t<tr><td>3</td><td>131.3333</td></tr>\n",
       "\t<tr><td>4</td><td>138.2500</td></tr>\n",
       "</tbody>\n",
       "</table>\n"
      ],
      "text/latex": [
       "A tibble: 5 × 2\n",
       "\\begin{tabular}{ll}\n",
       " num & average\\_thalach\\\\\n",
       " <fct> & <dbl>\\\\\n",
       "\\hline\n",
       "\t 0 & 158.4309\\\\\n",
       "\t 1 & 147.9762\\\\\n",
       "\t 2 & 131.9231\\\\\n",
       "\t 3 & 131.3333\\\\\n",
       "\t 4 & 138.2500\\\\\n",
       "\\end{tabular}\n"
      ],
      "text/markdown": [
       "\n",
       "A tibble: 5 × 2\n",
       "\n",
       "| num &lt;fct&gt; | average_thalach &lt;dbl&gt; |\n",
       "|---|---|\n",
       "| 0 | 158.4309 |\n",
       "| 1 | 147.9762 |\n",
       "| 2 | 131.9231 |\n",
       "| 3 | 131.3333 |\n",
       "| 4 | 138.2500 |\n",
       "\n"
      ],
      "text/plain": [
       "  num average_thalach\n",
       "1 0   158.4309       \n",
       "2 1   147.9762       \n",
       "3 2   131.9231       \n",
       "4 3   131.3333       \n",
       "5 4   138.2500       "
      ]
     },
     "metadata": {},
     "output_type": "display_data"
    }
   ],
   "source": [
    "average_thalach_by_type <- cleveland_training |>\n",
    "    group_by(num) |>\n",
    "    summarize(average_thalach = mean(thalach))\n",
    "average_thalach_by_type"
   ]
  },
  {
   "cell_type": "code",
   "execution_count": null,
   "id": "9cc35092-acd3-4a69-81f3-5268667deb63",
   "metadata": {},
   "outputs": [],
   "source": []
  }
 ],
 "metadata": {
  "kernelspec": {
   "display_name": "R",
   "language": "R",
   "name": "ir"
  },
  "language_info": {
   "codemirror_mode": "r",
   "file_extension": ".r",
   "mimetype": "text/x-r-source",
   "name": "R",
   "pygments_lexer": "r",
   "version": "4.1.3"
  }
 },
 "nbformat": 4,
 "nbformat_minor": 5
}
