{
 "cells": [
  {
   "cell_type": "code",
   "execution_count": 23,
   "id": "ffcfeb60-42d4-4550-a587-6ea4333b5215",
   "metadata": {},
   "outputs": [],
   "source": [
    "library(tidyverse)\n",
    "library(repr)\n",
    "library(tidymodels)\n",
    "options(repr.matrix.max.rows = 6)\n",
    "\n",
    "set.seed(8205)"
   ]
  },
  {
   "cell_type": "markdown",
   "id": "c7d288ce-0227-44d9-af4f-cc714a768a09",
   "metadata": {},
   "source": [
    " # Reading in Heart Disease Data"
   ]
  },
  {
   "cell_type": "code",
   "execution_count": 38,
   "id": "96dfae78-c52b-4069-ab4e-06a9881110b0",
   "metadata": {},
   "outputs": [
    {
     "name": "stderr",
     "output_type": "stream",
     "text": [
      "\u001b[1mRows: \u001b[22m\u001b[34m303\u001b[39m \u001b[1mColumns: \u001b[22m\u001b[34m14\u001b[39m\n",
      "\u001b[36m──\u001b[39m \u001b[1mColumn specification\u001b[22m \u001b[36m────────────────────────────────────────────────────────\u001b[39m\n",
      "\u001b[1mDelimiter:\u001b[22m \",\"\n",
      "\u001b[31mchr\u001b[39m  (2): X12, X13\n",
      "\u001b[32mdbl\u001b[39m (12): X1, X2, X3, X4, X5, X6, X7, X8, X9, X10, X11, X14\n",
      "\n",
      "\u001b[36mℹ\u001b[39m Use `spec()` to retrieve the full column specification for this data.\n",
      "\u001b[36mℹ\u001b[39m Specify the column types or set `show_col_types = FALSE` to quiet this message.\n"
     ]
    },
    {
     "data": {
      "text/html": [
       "<table class=\"dataframe\">\n",
       "<caption>A spec_tbl_df: 303 × 14</caption>\n",
       "<thead>\n",
       "\t<tr><th scope=col>age</th><th scope=col>sex</th><th scope=col>cp</th><th scope=col>trestbps</th><th scope=col>chol</th><th scope=col>fbs</th><th scope=col>restecg</th><th scope=col>thalach</th><th scope=col>exang</th><th scope=col>oldpeak</th><th scope=col>slope</th><th scope=col>ca</th><th scope=col>thal</th><th scope=col>num</th></tr>\n",
       "\t<tr><th scope=col>&lt;dbl&gt;</th><th scope=col>&lt;dbl&gt;</th><th scope=col>&lt;dbl&gt;</th><th scope=col>&lt;dbl&gt;</th><th scope=col>&lt;dbl&gt;</th><th scope=col>&lt;dbl&gt;</th><th scope=col>&lt;dbl&gt;</th><th scope=col>&lt;dbl&gt;</th><th scope=col>&lt;dbl&gt;</th><th scope=col>&lt;dbl&gt;</th><th scope=col>&lt;dbl&gt;</th><th scope=col>&lt;chr&gt;</th><th scope=col>&lt;chr&gt;</th><th scope=col>&lt;dbl&gt;</th></tr>\n",
       "</thead>\n",
       "<tbody>\n",
       "\t<tr><td>63</td><td>1</td><td>1</td><td>145</td><td>233</td><td>1</td><td>2</td><td>150</td><td>0</td><td>2.3</td><td>3</td><td>0.0</td><td>6.0</td><td>0</td></tr>\n",
       "\t<tr><td>67</td><td>1</td><td>4</td><td>160</td><td>286</td><td>0</td><td>2</td><td>108</td><td>1</td><td>1.5</td><td>2</td><td>3.0</td><td>3.0</td><td>2</td></tr>\n",
       "\t<tr><td>67</td><td>1</td><td>4</td><td>120</td><td>229</td><td>0</td><td>2</td><td>129</td><td>1</td><td>2.6</td><td>2</td><td>2.0</td><td>7.0</td><td>1</td></tr>\n",
       "\t<tr><td>⋮</td><td>⋮</td><td>⋮</td><td>⋮</td><td>⋮</td><td>⋮</td><td>⋮</td><td>⋮</td><td>⋮</td><td>⋮</td><td>⋮</td><td>⋮</td><td>⋮</td><td>⋮</td></tr>\n",
       "\t<tr><td>57</td><td>1</td><td>4</td><td>130</td><td>131</td><td>0</td><td>0</td><td>115</td><td>1</td><td>1.2</td><td>2</td><td>1.0</td><td>7.0</td><td>3</td></tr>\n",
       "\t<tr><td>57</td><td>0</td><td>2</td><td>130</td><td>236</td><td>0</td><td>2</td><td>174</td><td>0</td><td>0.0</td><td>2</td><td>1.0</td><td>3.0</td><td>1</td></tr>\n",
       "\t<tr><td>38</td><td>1</td><td>3</td><td>138</td><td>175</td><td>0</td><td>0</td><td>173</td><td>0</td><td>0.0</td><td>1</td><td>?  </td><td>3.0</td><td>0</td></tr>\n",
       "</tbody>\n",
       "</table>\n"
      ],
      "text/latex": [
       "A spec\\_tbl\\_df: 303 × 14\n",
       "\\begin{tabular}{llllllllllllll}\n",
       " age & sex & cp & trestbps & chol & fbs & restecg & thalach & exang & oldpeak & slope & ca & thal & num\\\\\n",
       " <dbl> & <dbl> & <dbl> & <dbl> & <dbl> & <dbl> & <dbl> & <dbl> & <dbl> & <dbl> & <dbl> & <chr> & <chr> & <dbl>\\\\\n",
       "\\hline\n",
       "\t 63 & 1 & 1 & 145 & 233 & 1 & 2 & 150 & 0 & 2.3 & 3 & 0.0 & 6.0 & 0\\\\\n",
       "\t 67 & 1 & 4 & 160 & 286 & 0 & 2 & 108 & 1 & 1.5 & 2 & 3.0 & 3.0 & 2\\\\\n",
       "\t 67 & 1 & 4 & 120 & 229 & 0 & 2 & 129 & 1 & 2.6 & 2 & 2.0 & 7.0 & 1\\\\\n",
       "\t ⋮ & ⋮ & ⋮ & ⋮ & ⋮ & ⋮ & ⋮ & ⋮ & ⋮ & ⋮ & ⋮ & ⋮ & ⋮ & ⋮\\\\\n",
       "\t 57 & 1 & 4 & 130 & 131 & 0 & 0 & 115 & 1 & 1.2 & 2 & 1.0 & 7.0 & 3\\\\\n",
       "\t 57 & 0 & 2 & 130 & 236 & 0 & 2 & 174 & 0 & 0.0 & 2 & 1.0 & 3.0 & 1\\\\\n",
       "\t 38 & 1 & 3 & 138 & 175 & 0 & 0 & 173 & 0 & 0.0 & 1 & ?   & 3.0 & 0\\\\\n",
       "\\end{tabular}\n"
      ],
      "text/markdown": [
       "\n",
       "A spec_tbl_df: 303 × 14\n",
       "\n",
       "| age &lt;dbl&gt; | sex &lt;dbl&gt; | cp &lt;dbl&gt; | trestbps &lt;dbl&gt; | chol &lt;dbl&gt; | fbs &lt;dbl&gt; | restecg &lt;dbl&gt; | thalach &lt;dbl&gt; | exang &lt;dbl&gt; | oldpeak &lt;dbl&gt; | slope &lt;dbl&gt; | ca &lt;chr&gt; | thal &lt;chr&gt; | num &lt;dbl&gt; |\n",
       "|---|---|---|---|---|---|---|---|---|---|---|---|---|---|\n",
       "| 63 | 1 | 1 | 145 | 233 | 1 | 2 | 150 | 0 | 2.3 | 3 | 0.0 | 6.0 | 0 |\n",
       "| 67 | 1 | 4 | 160 | 286 | 0 | 2 | 108 | 1 | 1.5 | 2 | 3.0 | 3.0 | 2 |\n",
       "| 67 | 1 | 4 | 120 | 229 | 0 | 2 | 129 | 1 | 2.6 | 2 | 2.0 | 7.0 | 1 |\n",
       "| ⋮ | ⋮ | ⋮ | ⋮ | ⋮ | ⋮ | ⋮ | ⋮ | ⋮ | ⋮ | ⋮ | ⋮ | ⋮ | ⋮ |\n",
       "| 57 | 1 | 4 | 130 | 131 | 0 | 0 | 115 | 1 | 1.2 | 2 | 1.0 | 7.0 | 3 |\n",
       "| 57 | 0 | 2 | 130 | 236 | 0 | 2 | 174 | 0 | 0.0 | 2 | 1.0 | 3.0 | 1 |\n",
       "| 38 | 1 | 3 | 138 | 175 | 0 | 0 | 173 | 0 | 0.0 | 1 | ?   | 3.0 | 0 |\n",
       "\n"
      ],
      "text/plain": [
       "    age sex cp trestbps chol fbs restecg thalach exang oldpeak slope ca  thal\n",
       "1   63  1   1  145      233  1   2       150     0     2.3     3     0.0 6.0 \n",
       "2   67  1   4  160      286  0   2       108     1     1.5     2     3.0 3.0 \n",
       "3   67  1   4  120      229  0   2       129     1     2.6     2     2.0 7.0 \n",
       "⋮   ⋮   ⋮   ⋮  ⋮        ⋮    ⋮   ⋮       ⋮       ⋮     ⋮       ⋮     ⋮   ⋮   \n",
       "301 57  1   4  130      131  0   0       115     1     1.2     2     1.0 7.0 \n",
       "302 57  0   2  130      236  0   2       174     0     0.0     2     1.0 3.0 \n",
       "303 38  1   3  138      175  0   0       173     0     0.0     1     ?   3.0 \n",
       "    num\n",
       "1   0  \n",
       "2   2  \n",
       "3   1  \n",
       "⋮   ⋮  \n",
       "301 3  \n",
       "302 1  \n",
       "303 0  "
      ]
     },
     "metadata": {},
     "output_type": "display_data"
    }
   ],
   "source": [
    "\n",
    "#download.file(\"https://archive.ics.uci.edu/ml/machine-learning-databases/heart-disease/processed.switzerland.data\",\n",
    "            #  destfile = \"./switzerland_data.data\")\n",
    "\n",
    "#read_csv(\"https://archive.ics.uci.edu/ml/machine-learning-databases/heart-disease/switzerland.data/processed.switzerland.data\")\n",
    "\n",
    "cleveland_data <- read_csv(\"data/processed.cleveland.data\", col_names = FALSE) |>\n",
    "    rename(age      = X1,\n",
    "           sex      = X2,\n",
    "           cp       = X3,\n",
    "           trestbps = X4,\n",
    "           chol     = X5,\n",
    "           fbs      = X6,\n",
    "           restecg  = X7,\n",
    "           thalach  = X8,\n",
    "           exang    = X9,\n",
    "           oldpeak  = X10,\n",
    "           slope    = X11,\n",
    "           ca       = X12,\n",
    "           thal     = X13,\n",
    "           num      = X14)\n",
    "\n",
    "cleveland_data"
   ]
  },
  {
   "cell_type": "markdown",
   "id": "00316bf6-af0c-4a4d-9a76-5e1da4e82955",
   "metadata": {},
   "source": [
    "# Wrangle data"
   ]
  },
  {
   "cell_type": "code",
   "execution_count": 39,
   "id": "6cf75176-ce6b-445b-8a2f-c27b4b58fb21",
   "metadata": {},
   "outputs": [
    {
     "name": "stderr",
     "output_type": "stream",
     "text": [
      "Warning message in mask$eval_all_mutate(quo):\n",
      "“NAs introduced by coercion”\n"
     ]
    },
    {
     "data": {
      "text/html": [
       "<table class=\"dataframe\">\n",
       "<caption>A tibble: 303 × 14</caption>\n",
       "<thead>\n",
       "\t<tr><th scope=col>age</th><th scope=col>sex</th><th scope=col>cp</th><th scope=col>trestbps</th><th scope=col>chol</th><th scope=col>fbs</th><th scope=col>restecg</th><th scope=col>thalach</th><th scope=col>exang</th><th scope=col>oldpeak</th><th scope=col>slope</th><th scope=col>ca</th><th scope=col>thal</th><th scope=col>num</th></tr>\n",
       "\t<tr><th scope=col>&lt;int&gt;</th><th scope=col>&lt;fct&gt;</th><th scope=col>&lt;fct&gt;</th><th scope=col>&lt;int&gt;</th><th scope=col>&lt;int&gt;</th><th scope=col>&lt;lgl&gt;</th><th scope=col>&lt;fct&gt;</th><th scope=col>&lt;int&gt;</th><th scope=col>&lt;lgl&gt;</th><th scope=col>&lt;dbl&gt;</th><th scope=col>&lt;fct&gt;</th><th scope=col>&lt;int&gt;</th><th scope=col>&lt;fct&gt;</th><th scope=col>&lt;fct&gt;</th></tr>\n",
       "</thead>\n",
       "<tbody>\n",
       "\t<tr><td>63</td><td>1</td><td>1</td><td>145</td><td>233</td><td> TRUE</td><td>2</td><td>150</td><td>FALSE</td><td>2.3</td><td>3</td><td>0</td><td>6.0</td><td>0</td></tr>\n",
       "\t<tr><td>67</td><td>1</td><td>4</td><td>160</td><td>286</td><td>FALSE</td><td>2</td><td>108</td><td> TRUE</td><td>1.5</td><td>2</td><td>3</td><td>3.0</td><td>2</td></tr>\n",
       "\t<tr><td>67</td><td>1</td><td>4</td><td>120</td><td>229</td><td>FALSE</td><td>2</td><td>129</td><td> TRUE</td><td>2.6</td><td>2</td><td>2</td><td>7.0</td><td>1</td></tr>\n",
       "\t<tr><td>⋮</td><td>⋮</td><td>⋮</td><td>⋮</td><td>⋮</td><td>⋮</td><td>⋮</td><td>⋮</td><td>⋮</td><td>⋮</td><td>⋮</td><td>⋮</td><td>⋮</td><td>⋮</td></tr>\n",
       "\t<tr><td>57</td><td>1</td><td>4</td><td>130</td><td>131</td><td>FALSE</td><td>0</td><td>115</td><td> TRUE</td><td>1.2</td><td>2</td><td> 1</td><td>7.0</td><td>3</td></tr>\n",
       "\t<tr><td>57</td><td>0</td><td>2</td><td>130</td><td>236</td><td>FALSE</td><td>2</td><td>174</td><td>FALSE</td><td>0.0</td><td>2</td><td> 1</td><td>3.0</td><td>1</td></tr>\n",
       "\t<tr><td>38</td><td>1</td><td>3</td><td>138</td><td>175</td><td>FALSE</td><td>0</td><td>173</td><td>FALSE</td><td>0.0</td><td>1</td><td>NA</td><td>3.0</td><td>0</td></tr>\n",
       "</tbody>\n",
       "</table>\n"
      ],
      "text/latex": [
       "A tibble: 303 × 14\n",
       "\\begin{tabular}{llllllllllllll}\n",
       " age & sex & cp & trestbps & chol & fbs & restecg & thalach & exang & oldpeak & slope & ca & thal & num\\\\\n",
       " <int> & <fct> & <fct> & <int> & <int> & <lgl> & <fct> & <int> & <lgl> & <dbl> & <fct> & <int> & <fct> & <fct>\\\\\n",
       "\\hline\n",
       "\t 63 & 1 & 1 & 145 & 233 &  TRUE & 2 & 150 & FALSE & 2.3 & 3 & 0 & 6.0 & 0\\\\\n",
       "\t 67 & 1 & 4 & 160 & 286 & FALSE & 2 & 108 &  TRUE & 1.5 & 2 & 3 & 3.0 & 2\\\\\n",
       "\t 67 & 1 & 4 & 120 & 229 & FALSE & 2 & 129 &  TRUE & 2.6 & 2 & 2 & 7.0 & 1\\\\\n",
       "\t ⋮ & ⋮ & ⋮ & ⋮ & ⋮ & ⋮ & ⋮ & ⋮ & ⋮ & ⋮ & ⋮ & ⋮ & ⋮ & ⋮\\\\\n",
       "\t 57 & 1 & 4 & 130 & 131 & FALSE & 0 & 115 &  TRUE & 1.2 & 2 &  1 & 7.0 & 3\\\\\n",
       "\t 57 & 0 & 2 & 130 & 236 & FALSE & 2 & 174 & FALSE & 0.0 & 2 &  1 & 3.0 & 1\\\\\n",
       "\t 38 & 1 & 3 & 138 & 175 & FALSE & 0 & 173 & FALSE & 0.0 & 1 & NA & 3.0 & 0\\\\\n",
       "\\end{tabular}\n"
      ],
      "text/markdown": [
       "\n",
       "A tibble: 303 × 14\n",
       "\n",
       "| age &lt;int&gt; | sex &lt;fct&gt; | cp &lt;fct&gt; | trestbps &lt;int&gt; | chol &lt;int&gt; | fbs &lt;lgl&gt; | restecg &lt;fct&gt; | thalach &lt;int&gt; | exang &lt;lgl&gt; | oldpeak &lt;dbl&gt; | slope &lt;fct&gt; | ca &lt;int&gt; | thal &lt;fct&gt; | num &lt;fct&gt; |\n",
       "|---|---|---|---|---|---|---|---|---|---|---|---|---|---|\n",
       "| 63 | 1 | 1 | 145 | 233 |  TRUE | 2 | 150 | FALSE | 2.3 | 3 | 0 | 6.0 | 0 |\n",
       "| 67 | 1 | 4 | 160 | 286 | FALSE | 2 | 108 |  TRUE | 1.5 | 2 | 3 | 3.0 | 2 |\n",
       "| 67 | 1 | 4 | 120 | 229 | FALSE | 2 | 129 |  TRUE | 2.6 | 2 | 2 | 7.0 | 1 |\n",
       "| ⋮ | ⋮ | ⋮ | ⋮ | ⋮ | ⋮ | ⋮ | ⋮ | ⋮ | ⋮ | ⋮ | ⋮ | ⋮ | ⋮ |\n",
       "| 57 | 1 | 4 | 130 | 131 | FALSE | 0 | 115 |  TRUE | 1.2 | 2 |  1 | 7.0 | 3 |\n",
       "| 57 | 0 | 2 | 130 | 236 | FALSE | 2 | 174 | FALSE | 0.0 | 2 |  1 | 3.0 | 1 |\n",
       "| 38 | 1 | 3 | 138 | 175 | FALSE | 0 | 173 | FALSE | 0.0 | 1 | NA | 3.0 | 0 |\n",
       "\n"
      ],
      "text/plain": [
       "    age sex cp trestbps chol fbs   restecg thalach exang oldpeak slope ca thal\n",
       "1   63  1   1  145      233   TRUE 2       150     FALSE 2.3     3     0  6.0 \n",
       "2   67  1   4  160      286  FALSE 2       108      TRUE 1.5     2     3  3.0 \n",
       "3   67  1   4  120      229  FALSE 2       129      TRUE 2.6     2     2  7.0 \n",
       "⋮   ⋮   ⋮   ⋮  ⋮        ⋮    ⋮     ⋮       ⋮       ⋮     ⋮       ⋮     ⋮  ⋮   \n",
       "301 57  1   4  130      131  FALSE 0       115      TRUE 1.2     2      1 7.0 \n",
       "302 57  0   2  130      236  FALSE 2       174     FALSE 0.0     2      1 3.0 \n",
       "303 38  1   3  138      175  FALSE 0       173     FALSE 0.0     1     NA 3.0 \n",
       "    num\n",
       "1   0  \n",
       "2   2  \n",
       "3   1  \n",
       "⋮   ⋮  \n",
       "301 3  \n",
       "302 1  \n",
       "303 0  "
      ]
     },
     "metadata": {},
     "output_type": "display_data"
    }
   ],
   "source": [
    "cleveland_data <- cleveland_data |>\n",
    "    mutate(age      = as.integer(age),\n",
    "           sex      = as.factor(sex),\n",
    "           cp       = as.factor(cp),\n",
    "           trestbps = as.integer(trestbps),\n",
    "           chol     = as.integer(chol),\n",
    "           fbs      = as.logical(fbs),\n",
    "           restecg  = as.factor(restecg),\n",
    "           thalach  = as.integer(thalach),\n",
    "           exang    = as.logical(exang),\n",
    "           oldpeak  = as.double(oldpeak),\n",
    "           slope    = as.factor(slope),\n",
    "           ca       = as.integer(ca),\n",
    "           thal     = as.factor(thal),\n",
    "           num      = as.factor(num))\n",
    "\n",
    "cleveland_data"
   ]
  },
  {
   "cell_type": "code",
   "execution_count": 42,
   "id": "107778d3-7283-49ba-bec4-dcd15dd77bcb",
   "metadata": {},
   "outputs": [
    {
     "data": {
      "text/html": [
       "<table class=\"dataframe\">\n",
       "<caption>A tibble: 5 × 2</caption>\n",
       "<thead>\n",
       "\t<tr><th scope=col>num</th><th scope=col>n()</th></tr>\n",
       "\t<tr><th scope=col>&lt;fct&gt;</th><th scope=col>&lt;int&gt;</th></tr>\n",
       "</thead>\n",
       "<tbody>\n",
       "\t<tr><td>0</td><td>164</td></tr>\n",
       "\t<tr><td>1</td><td> 55</td></tr>\n",
       "\t<tr><td>2</td><td> 36</td></tr>\n",
       "\t<tr><td>3</td><td> 35</td></tr>\n",
       "\t<tr><td>4</td><td> 13</td></tr>\n",
       "</tbody>\n",
       "</table>\n"
      ],
      "text/latex": [
       "A tibble: 5 × 2\n",
       "\\begin{tabular}{ll}\n",
       " num & n()\\\\\n",
       " <fct> & <int>\\\\\n",
       "\\hline\n",
       "\t 0 & 164\\\\\n",
       "\t 1 &  55\\\\\n",
       "\t 2 &  36\\\\\n",
       "\t 3 &  35\\\\\n",
       "\t 4 &  13\\\\\n",
       "\\end{tabular}\n"
      ],
      "text/markdown": [
       "\n",
       "A tibble: 5 × 2\n",
       "\n",
       "| num &lt;fct&gt; | n() &lt;int&gt; |\n",
       "|---|---|\n",
       "| 0 | 164 |\n",
       "| 1 |  55 |\n",
       "| 2 |  36 |\n",
       "| 3 |  35 |\n",
       "| 4 |  13 |\n",
       "\n"
      ],
      "text/plain": [
       "  num n()\n",
       "1 0   164\n",
       "2 1    55\n",
       "3 2    36\n",
       "4 3    35\n",
       "5 4    13"
      ]
     },
     "metadata": {},
     "output_type": "display_data"
    }
   ],
   "source": [
    "target_summary <- cleveland_data |>\n",
    "    group_by(num) |>\n",
    "    summarize(n())\n",
    "target_summary"
   ]
  },
  {
   "cell_type": "code",
   "execution_count": null,
   "id": "7fefe886-a74b-48fb-af7f-a03b8880c86a",
   "metadata": {},
   "outputs": [],
   "source": []
  }
 ],
 "metadata": {
  "kernelspec": {
   "display_name": "R",
   "language": "R",
   "name": "ir"
  },
  "language_info": {
   "codemirror_mode": "r",
   "file_extension": ".r",
   "mimetype": "text/x-r-source",
   "name": "R",
   "pygments_lexer": "r",
   "version": "4.1.3"
  }
 },
 "nbformat": 4,
 "nbformat_minor": 5
}
